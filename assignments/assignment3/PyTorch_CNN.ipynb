{
  "nbformat": 4,
  "nbformat_minor": 2,
  "metadata": {
    "accelerator": "GPU",
    "colab": {
      "name": "PyTorch_CNN.ipynb",
      "provenance": [],
      "collapsed_sections": []
    },
    "kernelspec": {
      "name": "python3",
      "display_name": "Python 3.9.5 64-bit ('Python39_venv': venv)"
    },
    "language_info": {
      "codemirror_mode": {
        "name": "ipython",
        "version": 3
      },
      "file_extension": ".py",
      "mimetype": "text/x-python",
      "name": "python",
      "nbconvert_exporter": "python",
      "pygments_lexer": "ipython3",
      "version": "3.9.5"
    },
    "interpreter": {
      "hash": "8c40f2b28a69b422bb890dd2d0136175d4cab68d270dcae98a2c6e212e18ff85"
    }
  },
  "cells": [
    {
      "cell_type": "markdown",
      "source": [
        "# Задание 3.2 - сверточные нейронные сети (CNNs) в PyTorch\r\n",
        "\r\n",
        "Это упражнение мы буде выполнять в Google Colab - https://colab.research.google.com/  \r\n",
        "Google Colab позволяет запускать код в notebook в облаке Google, где можно воспользоваться бесплатным GPU!  \r\n",
        "\r\n",
        "Авторы курса благодарят компанию Google и надеятся, что праздник не закончится.\r\n",
        "\r\n",
        "Туториал по настройке Google Colab:  \r\n",
        "https://medium.com/deep-learning-turkey/google-colab-free-gpu-tutorial-e113627b9f5d  \r\n",
        "(Keras инсталлировать не нужно, наш notebook сам установит PyTorch)\r\n"
      ],
      "metadata": {
        "id": "gymI-pT-bTvJ"
      }
    },
    {
      "cell_type": "code",
      "execution_count": 1,
      "source": [
        "# Intstall PyTorch and download data\r\n",
        "!pip3 install torch torchvision\r\n",
        "\r\n",
        "!wget -c http://ufldl.stanford.edu/housenumbers/train_32x32.mat http://ufldl.stanford.edu/housenumbers/test_32x32.mat"
      ],
      "outputs": [
        {
          "output_type": "stream",
          "name": "stdout",
          "text": [
            "Requirement already satisfied: torch in c:\\python39_venv\\lib\\site-packages (1.9.0+cu111)\n",
            "Requirement already satisfied: torchvision in c:\\python39_venv\\lib\\site-packages (0.10.0+cu111)\n",
            "Requirement already satisfied: typing-extensions in c:\\python39_venv\\lib\\site-packages (from torch) (3.10.0.0)\n",
            "Requirement already satisfied: numpy in c:\\python39_venv\\lib\\site-packages (from torchvision) (1.20.3)\n",
            "Requirement already satisfied: pillow>=5.3.0 in c:\\python39_venv\\lib\\site-packages (from torchvision) (8.2.0)\n"
          ]
        },
        {
          "output_type": "stream",
          "name": "stderr",
          "text": [
            "'wget' is not recognized as an internal or external command,\n",
            "operable program or batch file.\n"
          ]
        }
      ],
      "metadata": {
        "colab": {
          "base_uri": "https://localhost:8080/"
        },
        "id": "FcXBeP1O7cnY",
        "outputId": "17597db1-1278-47b7-e3b5-7555b92f133c"
      }
    },
    {
      "cell_type": "code",
      "execution_count": 2,
      "source": [
        "from collections import namedtuple\r\n",
        "\r\n",
        "import matplotlib.pyplot as plt\r\n",
        "import numpy as np\r\n",
        "import PIL\r\n",
        "import torch\r\n",
        "import torch.nn as nn\r\n",
        "import torch.optim as optim\r\n",
        "import torchvision.datasets as dset\r\n",
        "from torch.utils.data.sampler import SubsetRandomSampler\r\n",
        "\r\n",
        "from torchvision import transforms\r\n",
        "\r\n",
        "print(torch.__version__)\r\n"
      ],
      "outputs": [
        {
          "output_type": "stream",
          "name": "stdout",
          "text": [
            "1.9.0+cu111\n"
          ]
        }
      ],
      "metadata": {
        "id": "-afwWw-Q85vD"
      }
    },
    {
      "cell_type": "code",
      "execution_count": 3,
      "source": [
        "device = torch.device(\"cuda:0\") # Let's make sure GPU is available!\r\n",
        "torch.cuda.is_available()"
      ],
      "outputs": [
        {
          "output_type": "execute_result",
          "data": {
            "text/plain": [
              "True"
            ]
          },
          "metadata": {},
          "execution_count": 3
        }
      ],
      "metadata": {
        "id": "NNU-OD9O9ltP"
      }
    },
    {
      "cell_type": "markdown",
      "source": [
        "# Загружаем данные"
      ],
      "metadata": {
        "id": "HaQooYL9bTvP"
      }
    },
    {
      "cell_type": "code",
      "execution_count": 4,
      "source": [
        "# First, lets load the dataset\r\n",
        "data_train = dset.SVHN('./data/', split='train',\r\n",
        "                       transform=transforms.Compose([\r\n",
        "                           transforms.ToTensor(),\r\n",
        "                           transforms.Normalize(mean=[0.43,0.44,0.47],\r\n",
        "                                               std=[0.20,0.20,0.20])                           \r\n",
        "                       ])\r\n",
        "                      )\r\n",
        "data_test = dset.SVHN('./data/', split='test', transform=transforms.Compose([\r\n",
        "                           transforms.ToTensor(),\r\n",
        "                           transforms.Normalize(mean=[0.43,0.44,0.47],\r\n",
        "                                               std=[0.20,0.20,0.20])                           \r\n",
        "                       ]))"
      ],
      "outputs": [],
      "metadata": {
        "id": "YAvkoRx-9FsP"
      }
    },
    {
      "cell_type": "markdown",
      "source": [
        "Разделяем данные на training и validation.\n",
        "\n",
        "На всякий случай для подробностей - https://pytorch.org/tutorials/beginner/data_loading_tutorial.html"
      ],
      "metadata": {
        "id": "RWWqU6PZbTvR"
      }
    },
    {
      "cell_type": "code",
      "execution_count": 5,
      "source": [
        "batch_size = 64\r\n",
        "\r\n",
        "data_size = data_train.data.shape[0]\r\n",
        "validation_split = .2\r\n",
        "split = int(np.floor(validation_split * data_size))\r\n",
        "indices = list(range(data_size))\r\n",
        "np.random.shuffle(indices)\r\n",
        "\r\n",
        "train_indices, val_indices = indices[split:], indices[:split]\r\n",
        "\r\n",
        "train_sampler = SubsetRandomSampler(train_indices)\r\n",
        "val_sampler = SubsetRandomSampler(val_indices)\r\n",
        "\r\n",
        "train_loader = torch.utils.data.DataLoader(data_train, batch_size=batch_size, \r\n",
        "                                           sampler=train_sampler)\r\n",
        "val_loader = torch.utils.data.DataLoader(data_train, batch_size=batch_size,\r\n",
        "                                         sampler=val_sampler)"
      ],
      "outputs": [],
      "metadata": {
        "id": "YRnr8CPg7Hli"
      }
    },
    {
      "cell_type": "code",
      "execution_count": 6,
      "source": [
        "# We'll use a special helper module to shape it into a flat tensor\r\n",
        "class Flattener(nn.Module):\r\n",
        "    def forward(self, x):\r\n",
        "        batch_size, *_ = x.shape\r\n",
        "        return x.view(batch_size, -1)"
      ],
      "outputs": [],
      "metadata": {
        "id": "LyYvt-T67PBG"
      }
    },
    {
      "cell_type": "markdown",
      "source": [
        "Создадим простейшую сеть с новыми слоями:  \n",
        "Convolutional - `nn.Conv2d`  \n",
        "MaxPool - `nn.MaxPool2d`"
      ],
      "metadata": {
        "id": "3EaO5VzFbTvU"
      }
    },
    {
      "cell_type": "code",
      "execution_count": 7,
      "source": [
        "nn_model = nn.Sequential(\r\n",
        "            nn.Conv2d(3, 64, 3, padding=1),\r\n",
        "            nn.ReLU(inplace=True),\r\n",
        "            nn.MaxPool2d(4),\r\n",
        "            nn.Conv2d(64, 64, 3, padding=1),\r\n",
        "            nn.ReLU(inplace=True),\r\n",
        "            nn.MaxPool2d(4),    \r\n",
        "            Flattener(),\r\n",
        "            nn.Linear(64*2*2, 10),\r\n",
        "          )\r\n",
        "\r\n",
        "nn_model.type(torch.cuda.FloatTensor)\r\n",
        "nn_model.to(device)\r\n",
        "\r\n",
        "loss = nn.CrossEntropyLoss().type(torch.cuda.FloatTensor)\r\n",
        "optimizer = optim.SGD(nn_model.parameters(), lr=1e-1, weight_decay=1e-4)"
      ],
      "outputs": [],
      "metadata": {
        "id": "w9SFVGZP7SQd"
      }
    },
    {
      "cell_type": "markdown",
      "source": [
        "Восстановите функцию `compute_accuracy` из прошлого задания.  \n",
        "Единственное отличие в новом - она должна передать данные на GPU прежде чем прогонять через модель. Сделайте это так же, как это делает функция `train_model`"
      ],
      "metadata": {
        "id": "IVpAv4mJbTvV"
      }
    },
    {
      "cell_type": "code",
      "execution_count": 8,
      "source": [
        "def train_model(model, train_loader, val_loader, loss, optimizer, num_epochs):    \r\n",
        "    loss_history = []\r\n",
        "    train_history = []\r\n",
        "    val_history = []\r\n",
        "    for epoch in range(num_epochs):\r\n",
        "        model.train() # Enter train mode\r\n",
        "        \r\n",
        "        loss_accum = 0\r\n",
        "        correct_samples = 0\r\n",
        "        total_samples = 0\r\n",
        "        for i_step, (x, y) in enumerate(train_loader):\r\n",
        "          \r\n",
        "            x_gpu = x.to(device)\r\n",
        "            y_gpu = y.to(device)\r\n",
        "            prediction = model(x_gpu)    \r\n",
        "            loss_value = loss(prediction, y_gpu)\r\n",
        "            optimizer.zero_grad()\r\n",
        "            loss_value.backward()\r\n",
        "            optimizer.step()\r\n",
        "            \r\n",
        "            _, indices = torch.max(prediction, 1)\r\n",
        "            correct_samples += torch.sum(indices == y_gpu)\r\n",
        "            total_samples += y.shape[0]\r\n",
        "            \r\n",
        "            loss_accum += loss_value\r\n",
        "\r\n",
        "        ave_loss = loss_accum / i_step\r\n",
        "        train_accuracy = float(correct_samples) / total_samples\r\n",
        "        val_accuracy = compute_accuracy(model, val_loader)\r\n",
        "        \r\n",
        "        loss_history.append(float(ave_loss))\r\n",
        "        train_history.append(train_accuracy)\r\n",
        "        val_history.append(val_accuracy)\r\n",
        "        \r\n",
        "        print(\"Average loss: %f, Train accuracy: %f, Val accuracy: %f\" % (ave_loss, train_accuracy, val_accuracy))\r\n",
        "        \r\n",
        "    return loss_history, train_history, val_history\r\n",
        "        \r\n",
        "def compute_accuracy(model, loader):\r\n",
        "    \"\"\"\r\n",
        "    Computes accuracy on the dataset wrapped in a loader\r\n",
        "    \r\n",
        "    Returns: accuracy as a float value between 0 and 1\r\n",
        "    \"\"\"\r\n",
        "    model.eval() # Evaluation mode\r\n",
        "    # TODO: Copy implementation from previous assignment\r\n",
        "    # Don't forget to move the data to device before running it through the model!\r\n",
        "    \r\n",
        "    correct_samples = 0\r\n",
        "    total_samples = 0\r\n",
        "    for i_step, (x, y) in enumerate(loader):\r\n",
        "\r\n",
        "        x_gpu = x.to(device)\r\n",
        "        y_gpu = y.to(device)\r\n",
        "        prediction = model(x_gpu)\r\n",
        "\r\n",
        "        _, indices = torch.max(prediction, 1)\r\n",
        "        correct_samples += torch.sum(indices == y_gpu)\r\n",
        "        total_samples += y.shape[0]\r\n",
        "\r\n",
        "    val_accuracy = float(correct_samples) / total_samples    \r\n",
        "    \r\n",
        "    \r\n",
        "    return val_accuracy\r\n",
        "\r\n",
        "loss_history, train_history, val_history = train_model(nn_model, train_loader, val_loader, loss, optimizer, 5)"
      ],
      "outputs": [
        {
          "output_type": "stream",
          "name": "stderr",
          "text": [
            "C:\\Python39_venv\\lib\\site-packages\\torch\\nn\\functional.py:718: UserWarning: Named tensors and all their associated APIs are an experimental feature and subject to change. Please do not use them for anything important until they are released as stable. (Triggered internally at  ..\\c10/core/TensorImpl.h:1156.)\n",
            "  return torch.max_pool2d(input, kernel_size, stride, padding, dilation, ceil_mode)\n"
          ]
        },
        {
          "output_type": "stream",
          "name": "stdout",
          "text": [
            "Average loss: 1.429158, Train accuracy: 0.519111, Val accuracy: 0.753532\n",
            "Average loss: 0.715882, Train accuracy: 0.781234, Val accuracy: 0.813801\n",
            "Average loss: 0.609638, Train accuracy: 0.817561, Val accuracy: 0.818511\n",
            "Average loss: 0.561386, Train accuracy: 0.833447, Val accuracy: 0.827589\n",
            "Average loss: 0.528770, Train accuracy: 0.843770, Val accuracy: 0.837554\n"
          ]
        }
      ],
      "metadata": {
        "colab": {
          "base_uri": "https://localhost:8080/"
        },
        "id": "2ek3KVQK7hJ6",
        "outputId": "2eaa3c25-85bc-4222-8b55-20ebbeb13f4b"
      }
    },
    {
      "cell_type": "markdown",
      "source": [
        "# Аугментация данных (Data augmentation)\n",
        "\n",
        "В работе с изображениями одним из особенно важных методов является аугментация данных - то есть, генерация дополнительных данных для тренировки на основе изначальных.   \n",
        "Таким образом, мы получаем возможность \"увеличить\" набор данных для тренировки, что ведет к лучшей работе сети.\n",
        "Важно, чтобы аугментированные данные были похожи на те, которые могут встретиться в реальной жизни, иначе польза от аугментаций уменьшается и может ухудшить работу сети.\n",
        "\n",
        "С PyTorch идут несколько таких алгоритмов, называемых `transforms`. Более подробно про них можно прочитать тут -\n",
        "https://pytorch.org/tutorials/beginner/data_loading_tutorial.html#transforms\n",
        "\n",
        "Ниже мы используем следующие алгоритмы генерации:\n",
        "- ColorJitter - случайное изменение цвета\n",
        "- RandomHorizontalFlip - горизонтальное отражение с вероятностью 50%\n",
        "- RandomVerticalFlip - вертикальное отражение с вероятностью 50%\n",
        "- RandomRotation - случайный поворот"
      ],
      "metadata": {
        "id": "6a-3a1ZFGEw_"
      }
    },
    {
      "cell_type": "code",
      "execution_count": 10,
      "source": [
        "tfs = transforms.Compose([\r\n",
        "    transforms.ColorJitter(hue=.50, saturation=.50),\r\n",
        "    transforms.RandomHorizontalFlip(),\r\n",
        "    transforms.RandomVerticalFlip(),\r\n",
        "    transforms.RandomRotation(50, resample=PIL.Image.BILINEAR),\r\n",
        "    transforms.ToTensor(),\r\n",
        "    transforms.Normalize(mean=[0.43,0.44,0.47],\r\n",
        "                       std=[0.20,0.20,0.20])                           \r\n",
        "])\r\n",
        "\r\n",
        "# Create augmented train dataset\r\n",
        "data_aug_train = dset.SVHN('./data/', \r\n",
        "                       transform=tfs\r\n",
        "                      )\r\n",
        "\r\n",
        "train_aug_loader = torch.utils.data.DataLoader(data_aug_train, batch_size=batch_size, \r\n",
        "                                           sampler=train_sampler)"
      ],
      "outputs": [],
      "metadata": {
        "id": "jCWMUWmr7t5g",
        "colab": {
          "base_uri": "https://localhost:8080/"
        },
        "outputId": "f0d6ef0d-4063-49b4-f1ad-2c7547a24b60"
      }
    },
    {
      "cell_type": "markdown",
      "source": [
        "Визуализируем результаты агментации (вообще, смотреть на сгенерированные данные всегда очень полезно)."
      ],
      "metadata": {
        "id": "jND-xulPbTvX"
      }
    },
    {
      "cell_type": "code",
      "execution_count": 12,
      "source": [
        "# TODO: Visualize some augmented images!\r\n",
        "# hint: you can create new datasets and loaders to accomplish this\r\n",
        "\r\n",
        "# Based on the visualizations, should we keep all the augmentations?\r\n",
        "\r\n",
        "tfs = transforms.Compose([\r\n",
        "    transforms.ColorJitter(hue=.20, saturation=.20),\r\n",
        "    transforms.RandomHorizontalFlip(),\r\n",
        "    transforms.RandomVerticalFlip(),\r\n",
        "    transforms.RandomRotation(10, resample=PIL.Image.BILINEAR),\r\n",
        "])\r\n",
        "\r\n",
        "data_aug_vis = dset.SVHN('./data/', \r\n",
        "                       transform=tfs\r\n",
        "                      )\r\n",
        "\r\n",
        "plt.figure(figsize=(30, 3))\r\n",
        "\r\n",
        "for i, (x, y) in enumerate(data_aug_vis):\r\n",
        "    if i == 10:\r\n",
        "        break\r\n",
        "    plt.subplot(1, 10, i+1)\r\n",
        "    plt.grid(False)\r\n",
        "    plt.imshow(x)\r\n",
        "    plt.axis('off')"
      ],
      "outputs": [
        {
          "output_type": "display_data",
          "data": {
            "image/png": "[encoded data removed]",
            "text/plain": [
              "<Figure size 2160x216 with 10 Axes>"
            ]
          },
          "metadata": {
            "needs_background": "light"
          }
        }
      ],
      "metadata": {
        "id": "YlJJEro1KZ45",
        "colab": {
          "base_uri": "https://localhost:8080/",
          "height": 208
        },
        "outputId": "fef5fb01-93a5-4481-c2ee-fa122498cebf"
      }
    },
    {
      "cell_type": "markdown",
      "source": [
        "Все ли агментации одинаково полезны на этом наборе данных? Могут ли быть среди них те, которые собьют модель с толку?\n",
        "\n",
        "Выберите из них только корректные"
      ],
      "metadata": {
        "id": "o2LrmsYHoguB"
      }
    },
    {
      "cell_type": "code",
      "execution_count": 13,
      "source": [
        "# TODO: \r\n",
        "tfs = transforms.Compose([\r\n",
        "    # TODO: Add good augmentations\r\n",
        "    transforms.ColorJitter(hue=.20, saturation=.20),\r\n",
        "    transforms.RandomRotation(10, resample=PIL.Image.BILINEAR),\r\n",
        "    transforms.ToTensor(),\r\n",
        "    transforms.Normalize(mean=[0.43,0.44,0.47],\r\n",
        "                       std=[0.20,0.20,0.20])                           \r\n",
        "])\r\n",
        "\r\n",
        "# TODO create new instances of loaders with the augmentations you chose\r\n",
        "data_aug_my_train = dset.SVHN('./data/', \r\n",
        "                       transform=tfs\r\n",
        "                      )\r\n",
        "\r\n",
        "train_aug_loader = torch.utils.data.DataLoader(data_aug_my_train, batch_size=batch_size, \r\n",
        "                                           sampler=train_sampler)"
      ],
      "outputs": [],
      "metadata": {
        "id": "evro9ksXGs9u",
        "colab": {
          "base_uri": "https://localhost:8080/"
        },
        "outputId": "f972bdf5-de05-465e-d79a-7288ab038d94"
      }
    },
    {
      "cell_type": "code",
      "execution_count": 14,
      "source": [
        "# Finally, let's train with augmentations!\r\n",
        "\r\n",
        "# Note we shouldn't use augmentations on validation\r\n",
        "\r\n",
        "loss_history, train_history, val_history = train_model(nn_model, train_aug_loader, val_loader, loss, optimizer, 5)"
      ],
      "outputs": [
        {
          "output_type": "stream",
          "name": "stdout",
          "text": [
            "Average loss: 0.615741, Train accuracy: 0.809951, Val accuracy: 0.813392\n",
            "Average loss: 0.575594, Train accuracy: 0.825530, Val accuracy: 0.845335\n",
            "Average loss: 0.553184, Train accuracy: 0.832952, Val accuracy: 0.842468\n",
            "Average loss: 0.536261, Train accuracy: 0.838259, Val accuracy: 0.845403\n",
            "Average loss: 0.520346, Train accuracy: 0.842200, Val accuracy: 0.852229\n"
          ]
        }
      ],
      "metadata": {
        "id": "PeO6Zw0DHqPR",
        "colab": {
          "base_uri": "https://localhost:8080/"
        },
        "outputId": "a4a9997e-9d9a-411c-bba4-815a001d0903"
      }
    },
    {
      "cell_type": "markdown",
      "source": [
        "# LeNet\n",
        "Попробуем имплементировать классическую архитектуру сверточной нейронной сети, предложенную Яном ЛеКуном в 1998 году. В свое время она достигла впечатляющих результатов на MNIST, посмотрим как она справится с SVHN?\n",
        "Она описана в статье [\"Gradient Based Learning Applied to Document Recognition\"](http://yann.lecun.com/exdb/publis/pdf/lecun-01a.pdf), попробуйте прочитать ключевые части и имплементировать предложенную архитетуру на PyTorch.\n",
        "\n",
        "Реализовывать слои и функцию ошибки LeNet, которых нет в PyTorch, **не нужно** - просто возьмите их размеры и переведите в уже известные нам Convolutional, Pooling и Fully Connected layers.\n",
        "\n",
        "Если в статье не очень понятно, можно просто погуглить LeNet и разобраться в деталях :)"
      ],
      "metadata": {
        "id": "r0bcioK6JBDK"
      }
    },
    {
      "cell_type": "code",
      "execution_count": null,
      "source": [
        "# TODO: Implement LeNet-like architecture for SVHN task\r\n",
        "lenet_model = nn.Sequential(\r\n",
        "          )\r\n",
        "\r\n",
        "lenet_model.type(torch.cuda.FloatTensor)\r\n",
        "lenet_model.to(device)\r\n",
        "\r\n",
        "loss = nn.CrossEntropyLoss().type(torch.cuda.FloatTensor)\r\n",
        "optimizer = optim.SGD(lenet_model.parameters(), lr=1e-1, weight_decay=1e-4)"
      ],
      "outputs": [],
      "metadata": {
        "id": "ieEzZUglJAUB"
      }
    },
    {
      "cell_type": "code",
      "execution_count": null,
      "source": [
        "# Let's train it!\r\n",
        "loss_history, train_history, val_history = train_model(lenet_model, train_aug_loader, val_loader, loss, optimizer, 10)"
      ],
      "outputs": [],
      "metadata": {
        "id": "WMmaPfdeKk9H"
      }
    },
    {
      "cell_type": "markdown",
      "source": [
        "# Подбор гиперпараметров"
      ],
      "metadata": {
        "id": "u_O9qiYySvuj"
      }
    },
    {
      "cell_type": "code",
      "execution_count": null,
      "source": [
        "# The key hyperparameters we're going to tune are learning speed, annealing rate and regularization\r\n",
        "# We also encourage you to try different optimizers as well\r\n",
        "\r\n",
        "Hyperparams = namedtuple(\"Hyperparams\", ['learning_rate', 'anneal_epochs', 'reg'])\r\n",
        "RunResult = namedtuple(\"RunResult\", ['model', 'train_history', 'val_history', 'final_val_accuracy'])\r\n",
        "\r\n",
        "learning_rates = [1e0, 1e-1, 1e-2, 1e-3, 1e-4]\r\n",
        "anneal_coeff = 0.2\r\n",
        "anneal_epochs = [1, 5, 10, 15, 20, 50]\r\n",
        "reg = [1e-3, 1e-4, 1e-5, 1e-7]\r\n",
        "\r\n",
        "batch_size = 64\r\n",
        "epoch_num = 10\r\n",
        "\r\n",
        "# Record all the runs here\r\n",
        "# Key should be Hyperparams and values should be RunResult\r\n",
        "run_record = {} \r\n",
        "\r\n",
        "# Use grid search or random search and record all runs in run_record dictionnary \r\n",
        "# Important: perform search in logarithmic space!\r\n",
        "\r\n",
        "# TODO: Your code here!"
      ],
      "outputs": [],
      "metadata": {
        "id": "i6mhfdQ9K-N3"
      }
    },
    {
      "cell_type": "code",
      "execution_count": null,
      "source": [
        "best_val_accuracy = None\n",
        "best_hyperparams = None\n",
        "best_run = None\n",
        "\n",
        "for hyperparams, run_result in run_record.items():\n",
        "    if best_val_accuracy is None or best_val_accuracy < run_result.final_val_accuracy:\n",
        "        best_val_accuracy = run_result.final_val_accuracy\n",
        "        best_hyperparams = hyperparams\n",
        "        best_run = run_result\n",
        "        \n",
        "print(\"Best validation accuracy: %4.2f, best hyperparams: %s\" % (best_val_accuracy, best_hyperparams))\n",
        "        "
      ],
      "outputs": [],
      "metadata": {
        "id": "Y6xExdw8JB1l"
      }
    },
    {
      "cell_type": "markdown",
      "source": [
        "# Свободное упражнение - догоним и перегоним LeNet!\n",
        "\n",
        "Попробуйте найти архитектуру и настройки тренировки, чтобы выступить лучше наших бейзлайнов.\n",
        "\n",
        "Что можно и нужно попробовать:\n",
        "- BatchNormalization (для convolution layers он в PyTorch называется [batchnorm2d](https://pytorch.org/docs/stable/nn.html#batchnorm2d))\n",
        "- Изменить количество слоев и их толщину\n",
        "- Изменять количество эпох тренировки\n",
        "- Попробовать и другие агментации"
      ],
      "metadata": {
        "id": "LOmsR0uVgtgf"
      }
    },
    {
      "cell_type": "code",
      "execution_count": null,
      "source": [
        "best_model = None"
      ],
      "outputs": [],
      "metadata": {
        "id": "tSVhD747icoc"
      }
    },
    {
      "cell_type": "markdown",
      "source": [
        "# Финальный аккорд - проверим лучшую модель на test set\n",
        "\n",
        "В качестве разнообразия - напишите код для прогона модели на test set вы.\n",
        "\n",
        "В результате вы должны натренировать модель, которая покажет более **90%** точности на test set.  \n",
        "Как водится, лучший результат в группе получит дополнительные баллы!"
      ],
      "metadata": {
        "id": "ubeKgBcnhx7N"
      }
    },
    {
      "cell_type": "code",
      "execution_count": null,
      "source": [
        "# TODO Write the code to compute accuracy on test set\n",
        "final_test_accuracy = 0.0\n",
        "print(\"Final test accuracy - \", final_test_accuracy)"
      ],
      "outputs": [],
      "metadata": {
        "id": "EIqM1kdeh-hd"
      }
    },
    {
      "cell_type": "code",
      "execution_count": null,
      "source": [],
      "outputs": [],
      "metadata": {
        "id": "BfH6qip6kVX_"
      }
    }
  ]
}