{
  "cells": [
    {
      "cell_type": "markdown",
      "metadata": {
        "id": "gymI-pT-bTvJ"
      },
      "source": [
        "# Задание 3.2 - сверточные нейронные сети (CNNs) в PyTorch\n",
        "\n",
        "Это упражнение мы буде выполнять в Google Colab - https://colab.research.google.com/  \n",
        "Google Colab позволяет запускать код в notebook в облаке Google, где можно воспользоваться бесплатным GPU!  \n",
        "\n",
        "Авторы курса благодарят компанию Google и надеятся, что праздник не закончится.\n",
        "\n",
        "Туториал по настройке Google Colab:  \n",
        "https://medium.com/deep-learning-turkey/google-colab-free-gpu-tutorial-e113627b9f5d  \n",
        "(Keras инсталлировать не нужно, наш notebook сам установит PyTorch)\n"
      ]
    },
    {
      "cell_type": "code",
      "execution_count": 1,
      "metadata": {
        "colab": {
          "base_uri": "https://localhost:8080/"
        },
        "id": "FcXBeP1O7cnY",
        "outputId": "17597db1-1278-47b7-e3b5-7555b92f133c"
      },
      "outputs": [],
      "source": [
        "# Intstall PyTorch and download data\n",
        "# !pip3 install torch torchvision\n",
        "\n",
        "# !python -m wget http://ufldl.stanford.edu/housenumbers/train_32x32.mat http://ufldl.stanford.edu/housenumbers/test_32x32.mat"
      ]
    },
    {
      "cell_type": "code",
      "execution_count": 2,
      "metadata": {
        "id": "-afwWw-Q85vD"
      },
      "outputs": [
        {
          "name": "stdout",
          "output_type": "stream",
          "text": [
            "1.7.1\n"
          ]
        }
      ],
      "source": [
        "from collections import namedtuple\n",
        "\n",
        "import matplotlib.pyplot as plt\n",
        "import numpy as np\n",
        "import PIL\n",
        "import torch\n",
        "import torch.nn as nn\n",
        "import torch.optim as optim\n",
        "import torchvision.datasets as dset\n",
        "from torch.utils.data.sampler import SubsetRandomSampler\n",
        "\n",
        "from torchvision import transforms\n",
        "\n",
        "print(torch.__version__)\n"
      ]
    },
    {
      "cell_type": "code",
      "execution_count": 3,
      "metadata": {
        "id": "NNU-OD9O9ltP"
      },
      "outputs": [
        {
          "data": {
            "text/plain": [
              "True"
            ]
          },
          "execution_count": 3,
          "metadata": {},
          "output_type": "execute_result"
        }
      ],
      "source": [
        "device = torch.device(\"cuda:0\") # Let's make sure GPU is available!\n",
        "torch.cuda.is_available()"
      ]
    },
    {
      "cell_type": "markdown",
      "metadata": {
        "id": "HaQooYL9bTvP"
      },
      "source": [
        "# Загружаем данные"
      ]
    },
    {
      "cell_type": "code",
      "execution_count": 4,
      "metadata": {
        "id": "YAvkoRx-9FsP"
      },
      "outputs": [],
      "source": [
        "# First, lets load the dataset\n",
        "data_train = dset.SVHN('./data/', split='train',\n",
        "                       transform=transforms.Compose([\n",
        "                           transforms.ToTensor(),\n",
        "                           transforms.Normalize(mean=[0.43,0.44,0.47],\n",
        "                                               std=[0.20,0.20,0.20])                           \n",
        "                       ])\n",
        "                      )\n",
        "data_test = dset.SVHN('./data/', split='test', transform=transforms.Compose([\n",
        "                           transforms.ToTensor(),\n",
        "                           transforms.Normalize(mean=[0.43,0.44,0.47],\n",
        "                                               std=[0.20,0.20,0.20])                           \n",
        "                       ]))"
      ]
    },
    {
      "cell_type": "markdown",
      "metadata": {
        "id": "RWWqU6PZbTvR"
      },
      "source": [
        "Разделяем данные на training и validation.\n",
        "\n",
        "На всякий случай для подробностей - https://pytorch.org/tutorials/beginner/data_loading_tutorial.html"
      ]
    },
    {
      "cell_type": "code",
      "execution_count": 5,
      "metadata": {
        "id": "YRnr8CPg7Hli"
      },
      "outputs": [],
      "source": [
        "batch_size = 64\n",
        "\n",
        "data_size = data_train.data.shape[0]\n",
        "validation_split = .2\n",
        "split = int(np.floor(validation_split * data_size))\n",
        "indices = list(range(data_size))\n",
        "np.random.shuffle(indices)\n",
        "\n",
        "train_indices, val_indices = indices[split:], indices[:split]\n",
        "\n",
        "train_sampler = SubsetRandomSampler(train_indices)\n",
        "val_sampler = SubsetRandomSampler(val_indices)\n",
        "\n",
        "train_loader = torch.utils.data.DataLoader(data_train, batch_size=batch_size, \n",
        "                                           sampler=train_sampler)\n",
        "val_loader = torch.utils.data.DataLoader(data_train, batch_size=batch_size,\n",
        "                                         sampler=val_sampler)"
      ]
    },
    {
      "cell_type": "code",
      "execution_count": 6,
      "metadata": {
        "id": "LyYvt-T67PBG"
      },
      "outputs": [],
      "source": [
        "# We'll use a special helper module to shape it into a flat tensor\n",
        "class Flattener(nn.Module):\n",
        "    def forward(self, x):\n",
        "        batch_size, *_ = x.shape\n",
        "        return x.view(batch_size, -1)"
      ]
    },
    {
      "cell_type": "markdown",
      "metadata": {
        "id": "3EaO5VzFbTvU"
      },
      "source": [
        "Создадим простейшую сеть с новыми слоями:  \n",
        "Convolutional - `nn.Conv2d`  \n",
        "MaxPool - `nn.MaxPool2d`"
      ]
    },
    {
      "cell_type": "code",
      "execution_count": 7,
      "metadata": {
        "id": "w9SFVGZP7SQd"
      },
      "outputs": [],
      "source": [
        "nn_model = nn.Sequential(\n",
        "            nn.Conv2d(3, 64, 3, padding=1),\n",
        "            nn.ReLU(inplace=True),\n",
        "            nn.MaxPool2d(4),\n",
        "            nn.Conv2d(64, 64, 3, padding=1),\n",
        "            nn.ReLU(inplace=True),\n",
        "            nn.MaxPool2d(4),    \n",
        "            Flattener(),\n",
        "            nn.Linear(64*2*2, 10),\n",
        "          )\n",
        "\n",
        "nn_model.type(torch.cuda.FloatTensor)\n",
        "nn_model.to(device)\n",
        "\n",
        "loss = nn.CrossEntropyLoss().type(torch.cuda.FloatTensor)\n",
        "optimizer = optim.SGD(nn_model.parameters(), lr=1e-1, weight_decay=1e-4)"
      ]
    },
    {
      "cell_type": "markdown",
      "metadata": {
        "id": "IVpAv4mJbTvV"
      },
      "source": [
        "Восстановите функцию `compute_accuracy` из прошлого задания.  \n",
        "Единственное отличие в новом - она должна передать данные на GPU прежде чем прогонять через модель. Сделайте это так же, как это делает функция `train_model`"
      ]
    },
    {
      "cell_type": "code",
      "execution_count": 18,
      "metadata": {
        "colab": {
          "base_uri": "https://localhost:8080/"
        },
        "id": "2ek3KVQK7hJ6",
        "outputId": "2eaa3c25-85bc-4222-8b55-20ebbeb13f4b"
      },
      "outputs": [
        {
          "name": "stdout",
          "output_type": "stream",
          "text": [
            "Average loss: 0.483654, Train accuracy: 0.857165, Val accuracy: 0.847246\n",
            "Average loss: 0.483718, Train accuracy: 0.857165, Val accuracy: 0.847246\n",
            "Average loss: 0.483750, Train accuracy: 0.857165, Val accuracy: 0.847246\n",
            "Average loss: 0.483611, Train accuracy: 0.857165, Val accuracy: 0.847246\n",
            "Average loss: 0.483820, Train accuracy: 0.857165, Val accuracy: 0.847246\n"
          ]
        }
      ],
      "source": [
        "def train_model(model, train_loader, val_loader, loss, optimizer, num_epochs, scheduler=None):    \n",
        "    loss_history = []\n",
        "    train_history = []\n",
        "    val_history = []\n",
        "    for epoch in range(num_epochs):\n",
        "        model.train() # Enter train mode\n",
        "        \n",
        "        loss_accum = 0\n",
        "        correct_samples = 0\n",
        "        total_samples = 0\n",
        "        for i_step, (x, y) in enumerate(train_loader):\n",
        "          \n",
        "            x_gpu = x.to(device)\n",
        "            y_gpu = y.to(device)\n",
        "            prediction = model(x_gpu)    \n",
        "            loss_value = loss(prediction, y_gpu)\n",
        "            optimizer.zero_grad()\n",
        "            loss_value.backward()\n",
        "            optimizer.step()\n",
        "            \n",
        "            _, indices = torch.max(prediction, 1)\n",
        "            correct_samples += torch.sum(indices == y_gpu)\n",
        "            total_samples += y.shape[0]\n",
        "            \n",
        "            loss_accum += loss_value\n",
        "\n",
        "        ave_loss = loss_accum / i_step\n",
        "        train_accuracy = float(correct_samples) / total_samples\n",
        "        val_accuracy = compute_accuracy(model, val_loader)\n",
        "        \n",
        "        loss_history.append(float(ave_loss))\n",
        "        train_history.append(train_accuracy)\n",
        "        val_history.append(val_accuracy)\n",
        "        \n",
        "        print(\"Average loss: %f, Train accuracy: %f, Val accuracy: %f\" % (ave_loss, train_accuracy, val_accuracy))\n",
        "\n",
        "        if scheduler:\n",
        "            scheduler.step()\n",
        "        \n",
        "    return loss_history, train_history, val_history\n",
        "        \n",
        "def compute_accuracy(model, loader):\n",
        "    \"\"\"\n",
        "    Computes accuracy on the dataset wrapped in a loader\n",
        "    \n",
        "    Returns: accuracy as a float value between 0 and 1\n",
        "    \"\"\"\n",
        "    model.eval() # Evaluation mode\n",
        "    # TODO: Copy implementation from previous assignment\n",
        "    # Don't forget to move the data to device before running it through the model!\n",
        "    \n",
        "    correct_samples = 0\n",
        "    total_samples = 0\n",
        "    for i_step, (x, y) in enumerate(loader):\n",
        "\n",
        "        x_gpu = x.to(device)\n",
        "        y_gpu = y.to(device)\n",
        "        prediction = model(x_gpu)\n",
        "\n",
        "        _, indices = torch.max(prediction, 1)\n",
        "        correct_samples += torch.sum(indices == y_gpu)\n",
        "        total_samples += y.shape[0]\n",
        "\n",
        "    val_accuracy = float(correct_samples) / total_samples    \n",
        "    \n",
        "    \n",
        "    return val_accuracy\n",
        "\n",
        "loss_history, train_history, val_history = train_model(nn_model, train_loader, val_loader, loss, optimizer, 5)"
      ]
    },
    {
      "cell_type": "markdown",
      "metadata": {
        "id": "6a-3a1ZFGEw_"
      },
      "source": [
        "# Аугментация данных (Data augmentation)\n",
        "\n",
        "В работе с изображениями одним из особенно важных методов является аугментация данных - то есть, генерация дополнительных данных для тренировки на основе изначальных.   \n",
        "Таким образом, мы получаем возможность \"увеличить\" набор данных для тренировки, что ведет к лучшей работе сети.\n",
        "Важно, чтобы аугментированные данные были похожи на те, которые могут встретиться в реальной жизни, иначе польза от аугментаций уменьшается и может ухудшить работу сети.\n",
        "\n",
        "С PyTorch идут несколько таких алгоритмов, называемых `transforms`. Более подробно про них можно прочитать тут -\n",
        "https://pytorch.org/tutorials/beginner/data_loading_tutorial.html#transforms\n",
        "\n",
        "Ниже мы используем следующие алгоритмы генерации:\n",
        "- ColorJitter - случайное изменение цвета\n",
        "- RandomHorizontalFlip - горизонтальное отражение с вероятностью 50%\n",
        "- RandomVerticalFlip - вертикальное отражение с вероятностью 50%\n",
        "- RandomRotation - случайный поворот"
      ]
    },
    {
      "cell_type": "code",
      "execution_count": 9,
      "metadata": {
        "colab": {
          "base_uri": "https://localhost:8080/"
        },
        "id": "jCWMUWmr7t5g",
        "outputId": "f0d6ef0d-4063-49b4-f1ad-2c7547a24b60"
      },
      "outputs": [],
      "source": [
        "tfs = transforms.Compose([\n",
        "    transforms.ColorJitter(hue=.50, saturation=.50),\n",
        "    transforms.RandomHorizontalFlip(),\n",
        "    transforms.RandomVerticalFlip(),\n",
        "    transforms.RandomRotation(50, resample=PIL.Image.BILINEAR),\n",
        "    transforms.ToTensor(),\n",
        "    transforms.Normalize(mean=[0.43,0.44,0.47],\n",
        "                       std=[0.20,0.20,0.20])                           \n",
        "])\n",
        "\n",
        "# Create augmented train dataset\n",
        "data_aug_train = dset.SVHN('./data/', \n",
        "                       transform=tfs\n",
        "                      )\n",
        "\n",
        "train_aug_loader = torch.utils.data.DataLoader(data_aug_train, batch_size=batch_size, \n",
        "                                           sampler=train_sampler)"
      ]
    },
    {
      "cell_type": "markdown",
      "metadata": {
        "id": "jND-xulPbTvX"
      },
      "source": [
        "Визуализируем результаты агментации (вообще, смотреть на сгенерированные данные всегда очень полезно)."
      ]
    },
    {
      "cell_type": "code",
      "execution_count": 10,
      "metadata": {
        "colab": {
          "base_uri": "https://localhost:8080/",
          "height": 208
        },
        "id": "YlJJEro1KZ45",
        "outputId": "fef5fb01-93a5-4481-c2ee-fa122498cebf"
      },
      "outputs": [
        {
          "data": {
            "image/png": "[encoded data removed]",
            "text/plain": [
              "<Figure size 2160x216 with 10 Axes>"
            ]
          },
          "metadata": {
            "needs_background": "light"
          },
          "output_type": "display_data"
        }
      ],
      "source": [
        "# TODO: Visualize some augmented images!\n",
        "# hint: you can create new datasets and loaders to accomplish this\n",
        "\n",
        "# Based on the visualizations, should we keep all the augmentations?\n",
        "\n",
        "tfs = transforms.Compose([\n",
        "    transforms.ColorJitter(hue=.20, saturation=.20),\n",
        "    transforms.RandomHorizontalFlip(),\n",
        "    transforms.RandomVerticalFlip(),\n",
        "    transforms.RandomRotation(10, resample=PIL.Image.BILINEAR),\n",
        "])\n",
        "\n",
        "data_aug_vis = dset.SVHN('./data/', \n",
        "                       transform=tfs\n",
        "                      )\n",
        "\n",
        "plt.figure(figsize=(30, 3))\n",
        "\n",
        "for i, (x, y) in enumerate(data_aug_vis):\n",
        "    if i == 10:\n",
        "        break\n",
        "    plt.subplot(1, 10, i+1)\n",
        "    plt.grid(False)\n",
        "    plt.imshow(x)\n",
        "    plt.axis('off')"
      ]
    },
    {
      "cell_type": "markdown",
      "metadata": {
        "id": "o2LrmsYHoguB"
      },
      "source": [
        "Все ли агментации одинаково полезны на этом наборе данных? Могут ли быть среди них те, которые собьют модель с толку?\n",
        "\n",
        "Выберите из них только корректные"
      ]
    },
    {
      "cell_type": "code",
      "execution_count": 11,
      "metadata": {
        "colab": {
          "base_uri": "https://localhost:8080/"
        },
        "id": "evro9ksXGs9u",
        "outputId": "f972bdf5-de05-465e-d79a-7288ab038d94"
      },
      "outputs": [],
      "source": [
        "# TODO: \n",
        "tfs = transforms.Compose([\n",
        "    # TODO: Add good augmentations\n",
        "    transforms.ColorJitter(hue=.20, saturation=.20),\n",
        "    transforms.RandomRotation(10, resample=PIL.Image.BILINEAR),\n",
        "    transforms.ToTensor(),\n",
        "    transforms.Normalize(mean=[0.43,0.44,0.47],\n",
        "                       std=[0.20,0.20,0.20])                           \n",
        "])\n",
        "\n",
        "# TODO create new instances of loaders with the augmentations you chose\n",
        "data_aug_my_train = dset.SVHN('./data/', \n",
        "                       transform=tfs\n",
        "                      )\n",
        "\n",
        "train_aug_loader = torch.utils.data.DataLoader(data_aug_my_train, batch_size=batch_size, \n",
        "                                           sampler=train_sampler)"
      ]
    },
    {
      "cell_type": "code",
      "execution_count": 12,
      "metadata": {
        "colab": {
          "base_uri": "https://localhost:8080/"
        },
        "id": "PeO6Zw0DHqPR",
        "outputId": "a4a9997e-9d9a-411c-bba4-815a001d0903"
      },
      "outputs": [
        {
          "name": "stdout",
          "output_type": "stream",
          "text": [
            "Average loss: 0.596376, Train accuracy: 0.819148, Val accuracy: 0.831001\n",
            "Average loss: 0.548641, Train accuracy: 0.834761, Val accuracy: 0.831343\n",
            "Average loss: 0.526048, Train accuracy: 0.840904, Val accuracy: 0.853048\n",
            "Average loss: 0.512277, Train accuracy: 0.844913, Val accuracy: 0.822196\n",
            "Average loss: 0.500785, Train accuracy: 0.849060, Val accuracy: 0.847246\n"
          ]
        }
      ],
      "source": [
        "# Finally, let's train with augmentations!\n",
        "\n",
        "# Note we shouldn't use augmentations on validation\n",
        "\n",
        "loss_history, train_history, val_history = train_model(nn_model, train_aug_loader, val_loader, loss, optimizer, 5)"
      ]
    },
    {
      "cell_type": "markdown",
      "metadata": {
        "id": "r0bcioK6JBDK"
      },
      "source": [
        "# LeNet\n",
        "Попробуем имплементировать классическую архитектуру сверточной нейронной сети, предложенную Яном ЛеКуном в 1998 году. В свое время она достигла впечатляющих результатов на MNIST, посмотрим как она справится с SVHN?\n",
        "Она описана в статье [\"Gradient Based Learning Applied to Document Recognition\"](http://yann.lecun.com/exdb/publis/pdf/lecun-01a.pdf), попробуйте прочитать ключевые части и имплементировать предложенную архитетуру на PyTorch.\n",
        "\n",
        "Реализовывать слои и функцию ошибки LeNet, которых нет в PyTorch, **не нужно** - просто возьмите их размеры и переведите в уже известные нам Convolutional, Pooling и Fully Connected layers.\n",
        "\n",
        "Если в статье не очень понятно, можно просто погуглить LeNet и разобраться в деталях :)"
      ]
    },
    {
      "cell_type": "code",
      "execution_count": 13,
      "metadata": {
        "id": "ieEzZUglJAUB"
      },
      "outputs": [],
      "source": [
        "# TODO: Implement LeNet-like architecture for SVHN task\n",
        "lenet_model = nn.Sequential(\n",
        "        nn.Conv2d(3, 6, 5, padding=1),\n",
        "        nn.Tanh(),\n",
        "        nn.AvgPool2d(2),\n",
        "        nn.Conv2d(6, 16, 5, padding=1),\n",
        "        nn.Tanh(),\n",
        "        nn.AvgPool2d(2),\n",
        "        nn.Conv2d(16, 120, 5, padding=1),\n",
        "        nn.Tanh(),\n",
        "        Flattener(),\n",
        "        nn.Linear(1920, 120),\n",
        "        nn.Tanh(),\n",
        "        nn.Linear(120, 84),\n",
        "        nn.Tanh(),\n",
        "        nn.Linear(84, 10)\n",
        "          )\n",
        "\n",
        "lenet_model.type(torch.cuda.FloatTensor)\n",
        "lenet_model.to(device)\n",
        "\n",
        "loss = nn.CrossEntropyLoss().type(torch.cuda.FloatTensor)\n",
        "optimizer = optim.SGD(lenet_model.parameters(), lr=1e-1, weight_decay=1e-4)"
      ]
    },
    {
      "cell_type": "code",
      "execution_count": 14,
      "metadata": {},
      "outputs": [
        {
          "name": "stdout",
          "output_type": "stream",
          "text": [
            "==========================================================================================\n",
            "Layer (type:depth-idx)                   Output Shape              Param #\n",
            "==========================================================================================\n",
            "├─Conv2d: 1-1                            [-1, 6, 30, 30]           456\n",
            "├─Tanh: 1-2                              [-1, 6, 30, 30]           --\n",
            "├─AvgPool2d: 1-3                         [-1, 6, 15, 15]           --\n",
            "├─Conv2d: 1-4                            [-1, 16, 13, 13]          2,416\n",
            "├─Tanh: 1-5                              [-1, 16, 13, 13]          --\n",
            "├─AvgPool2d: 1-6                         [-1, 16, 6, 6]            --\n",
            "├─Conv2d: 1-7                            [-1, 120, 4, 4]           48,120\n",
            "├─Tanh: 1-8                              [-1, 120, 4, 4]           --\n",
            "├─Flattener: 1-9                         [-1, 1920]                --\n",
            "├─Linear: 1-10                           [-1, 120]                 230,520\n",
            "├─Tanh: 1-11                             [-1, 120]                 --\n",
            "├─Linear: 1-12                           [-1, 84]                  10,164\n",
            "├─Tanh: 1-13                             [-1, 84]                  --\n",
            "├─Linear: 1-14                           [-1, 10]                  850\n",
            "==========================================================================================\n",
            "Total params: 292,526\n",
            "Trainable params: 292,526\n",
            "Non-trainable params: 0\n",
            "Total mult-adds (M): 1.82\n",
            "==========================================================================================\n",
            "Input size (MB): 0.01\n",
            "Forward/backward pass size (MB): 0.08\n",
            "Params size (MB): 1.12\n",
            "Estimated Total Size (MB): 1.21\n",
            "==========================================================================================\n"
          ]
        },
        {
          "data": {
            "text/plain": [
              "==========================================================================================\n",
              "Layer (type:depth-idx)                   Output Shape              Param #\n",
              "==========================================================================================\n",
              "├─Conv2d: 1-1                            [-1, 6, 30, 30]           456\n",
              "├─Tanh: 1-2                              [-1, 6, 30, 30]           --\n",
              "├─AvgPool2d: 1-3                         [-1, 6, 15, 15]           --\n",
              "├─Conv2d: 1-4                            [-1, 16, 13, 13]          2,416\n",
              "├─Tanh: 1-5                              [-1, 16, 13, 13]          --\n",
              "├─AvgPool2d: 1-6                         [-1, 16, 6, 6]            --\n",
              "├─Conv2d: 1-7                            [-1, 120, 4, 4]           48,120\n",
              "├─Tanh: 1-8                              [-1, 120, 4, 4]           --\n",
              "├─Flattener: 1-9                         [-1, 1920]                --\n",
              "├─Linear: 1-10                           [-1, 120]                 230,520\n",
              "├─Tanh: 1-11                             [-1, 120]                 --\n",
              "├─Linear: 1-12                           [-1, 84]                  10,164\n",
              "├─Tanh: 1-13                             [-1, 84]                  --\n",
              "├─Linear: 1-14                           [-1, 10]                  850\n",
              "==========================================================================================\n",
              "Total params: 292,526\n",
              "Trainable params: 292,526\n",
              "Non-trainable params: 0\n",
              "Total mult-adds (M): 1.82\n",
              "==========================================================================================\n",
              "Input size (MB): 0.01\n",
              "Forward/backward pass size (MB): 0.08\n",
              "Params size (MB): 1.12\n",
              "Estimated Total Size (MB): 1.21\n",
              "=========================================================================================="
            ]
          },
          "execution_count": 14,
          "metadata": {},
          "output_type": "execute_result"
        }
      ],
      "source": [
        "from torchsummary import summary\n",
        "summary(lenet_model, (3, 32, 32))"
      ]
    },
    {
      "cell_type": "code",
      "execution_count": 15,
      "metadata": {
        "id": "WMmaPfdeKk9H"
      },
      "outputs": [
        {
          "name": "stdout",
          "output_type": "stream",
          "text": [
            "Average loss: 1.966118, Train accuracy: 0.312613, Val accuracy: 0.711487\n",
            "Average loss: 0.718568, Train accuracy: 0.780398, Val accuracy: 0.828271\n",
            "Average loss: 0.532136, Train accuracy: 0.838310, Val accuracy: 0.864514\n",
            "Average loss: 0.457225, Train accuracy: 0.860321, Val accuracy: 0.872910\n",
            "Average loss: 0.413494, Train accuracy: 0.873545, Val accuracy: 0.888608\n",
            "Average loss: 0.377504, Train accuracy: 0.884261, Val accuracy: 0.888472\n",
            "Average loss: 0.355554, Train accuracy: 0.890643, Val accuracy: 0.896048\n",
            "Average loss: 0.337621, Train accuracy: 0.896461, Val accuracy: 0.894546\n",
            "Average loss: 0.318648, Train accuracy: 0.902365, Val accuracy: 0.899802\n",
            "Average loss: 0.303443, Train accuracy: 0.907330, Val accuracy: 0.894478\n"
          ]
        }
      ],
      "source": [
        "# Let's train it!\n",
        "loss_history, train_history, val_history = train_model(lenet_model, train_aug_loader, val_loader, loss, optimizer, 10)"
      ]
    },
    {
      "cell_type": "markdown",
      "metadata": {
        "id": "u_O9qiYySvuj"
      },
      "source": [
        "# Подбор гиперпараметров"
      ]
    },
    {
      "cell_type": "code",
      "execution_count": 47,
      "metadata": {
        "id": "i6mhfdQ9K-N3"
      },
      "outputs": [
        {
          "name": "stdout",
          "output_type": "stream",
          "text": [
            "\n",
            "0 attempt\n",
            "Average loss: 0.140239, Train accuracy: 0.960175, Val accuracy: 0.915637\n",
            "Average loss: 0.139014, Train accuracy: 0.960397, Val accuracy: 0.915978\n",
            "Average loss: 0.137052, Train accuracy: 0.960670, Val accuracy: 0.916047\n",
            "Average loss: 0.136041, Train accuracy: 0.961267, Val accuracy: 0.916115\n",
            "Average loss: 0.135084, Train accuracy: 0.960840, Val accuracy: 0.916320\n",
            "Average loss: 0.137843, Train accuracy: 0.960567, Val accuracy: 0.916456\n",
            "Average loss: 0.136485, Train accuracy: 0.961164, Val accuracy: 0.916456\n",
            "Average loss: 0.134563, Train accuracy: 0.961779, Val accuracy: 0.915842\n",
            "Average loss: 0.134321, Train accuracy: 0.962086, Val accuracy: 0.915774\n",
            "Average loss: 0.132670, Train accuracy: 0.962512, Val accuracy: 0.916183\n",
            "\n",
            "1 attempt\n",
            "Average loss: 0.200483, Train accuracy: 0.937976, Val accuracy: 0.896662\n",
            "Average loss: 0.199784, Train accuracy: 0.937020, Val accuracy: 0.899666\n",
            "Average loss: 0.192447, Train accuracy: 0.940313, Val accuracy: 0.906559\n",
            "Average loss: 0.188132, Train accuracy: 0.941576, Val accuracy: 0.904102\n",
            "Average loss: 0.183330, Train accuracy: 0.943078, Val accuracy: 0.902669\n",
            "Average loss: 0.180039, Train accuracy: 0.942856, Val accuracy: 0.904307\n",
            "Average loss: 0.175113, Train accuracy: 0.944306, Val accuracy: 0.905058\n",
            "Average loss: 0.172884, Train accuracy: 0.946405, Val accuracy: 0.893045\n",
            "Average loss: 0.164972, Train accuracy: 0.947975, Val accuracy: 0.902942\n",
            "Average loss: 0.161232, Train accuracy: 0.948384, Val accuracy: 0.899597\n",
            "\n",
            "2 attempt\n",
            "Average loss: 0.112177, Train accuracy: 0.967085, Val accuracy: 0.911269\n",
            "Average loss: 0.094913, Train accuracy: 0.973433, Val accuracy: 0.911132\n",
            "Average loss: 0.094646, Train accuracy: 0.973126, Val accuracy: 0.911405\n",
            "Average loss: 0.092945, Train accuracy: 0.973791, Val accuracy: 0.911337\n",
            "Average loss: 0.093263, Train accuracy: 0.973177, Val accuracy: 0.911337\n",
            "Average loss: 0.093953, Train accuracy: 0.973484, Val accuracy: 0.911337\n",
            "Average loss: 0.092558, Train accuracy: 0.973313, Val accuracy: 0.911337\n",
            "Average loss: 0.094880, Train accuracy: 0.973655, Val accuracy: 0.911337\n",
            "Average loss: 0.092894, Train accuracy: 0.974047, Val accuracy: 0.911337\n",
            "Average loss: 0.095037, Train accuracy: 0.973262, Val accuracy: 0.911337\n",
            "\n",
            "3 attempt\n",
            "Average loss: 0.150032, Train accuracy: 0.953332, Val accuracy: 0.905945\n",
            "Average loss: 0.155894, Train accuracy: 0.950961, Val accuracy: 0.905877\n",
            "Average loss: 0.163612, Train accuracy: 0.949766, Val accuracy: 0.904307\n",
            "Average loss: 0.173238, Train accuracy: 0.945791, Val accuracy: 0.907993\n",
            "Average loss: 0.180255, Train accuracy: 0.943197, Val accuracy: 0.902327\n",
            "Average loss: 0.186859, Train accuracy: 0.942276, Val accuracy: 0.910313\n",
            "Average loss: 0.197358, Train accuracy: 0.939085, Val accuracy: 0.906218\n",
            "Average loss: 0.202849, Train accuracy: 0.936611, Val accuracy: 0.900416\n",
            "Average loss: 0.207609, Train accuracy: 0.935655, Val accuracy: 0.906832\n",
            "Average loss: 0.214731, Train accuracy: 0.933386, Val accuracy: 0.901440\n",
            "\n",
            "4 attempt\n",
            "Average loss: 0.217562, Train accuracy: 0.931986, Val accuracy: 0.907651\n",
            "Average loss: 0.219482, Train accuracy: 0.932157, Val accuracy: 0.814074\n",
            "Average loss: 0.223919, Train accuracy: 0.929325, Val accuracy: 0.899597\n",
            "Average loss: 0.223874, Train accuracy: 0.930792, Val accuracy: 0.904034\n",
            "Average loss: 0.226089, Train accuracy: 0.929478, Val accuracy: 0.911337\n",
            "Average loss: 0.228660, Train accuracy: 0.928693, Val accuracy: 0.908470\n",
            "Average loss: 0.227773, Train accuracy: 0.929734, Val accuracy: 0.905058\n",
            "Average loss: 0.230494, Train accuracy: 0.928198, Val accuracy: 0.912975\n",
            "Average loss: 0.229492, Train accuracy: 0.929171, Val accuracy: 0.887107\n",
            "Average loss: 0.229481, Train accuracy: 0.929069, Val accuracy: 0.890451\n"
          ]
        }
      ],
      "source": [
        "# The key hyperparameters we're going to tune are learning speed, annealing rate and regularization\n",
        "# We also encourage you to try different optimizers as well\n",
        "\n",
        "Hyperparams = namedtuple(\"Hyperparams\", ['learning_rate', 'anneal_epochs', 'reg'])\n",
        "RunResult = namedtuple(\"RunResult\", ['model', 'train_history', 'val_history', 'final_val_accuracy'])\n",
        "\n",
        "learning_rates = [1e0, 1e-1, 1e-2, 1e-3, 1e-4]\n",
        "anneal_coeff = 0.2\n",
        "anneal_epochs = [1, 5, 10, 15, 20, 50]\n",
        "reg = [1e-3, 1e-4, 1e-5, 1e-7]\n",
        "\n",
        "# batch_size = 64\n",
        "epoch_num = 10\n",
        "\n",
        "# Record all the runs here\n",
        "# Key should be Hyperparams and values should be RunResult\n",
        "run_record = {} \n",
        "\n",
        "# Use grid search or random search and record all runs in run_record dictionnary \n",
        "# Important: perform search in logarithmic space!\n",
        "import random\n",
        "random.seed(50)\n",
        "MAX_EVALS = 5\n",
        "\n",
        "for i in range(MAX_EVALS):\n",
        "    print(f\"\\n{i} attempt\")\n",
        "\n",
        "    hyperparams = Hyperparams(random.choice(learning_rates),\n",
        "                              random.choice(anneal_epochs),\n",
        "                              random.choice(reg))\n",
        "\n",
        "    optimizer = optim.SGD(lenet_model.parameters(), lr=hyperparams.learning_rate,\n",
        "                          weight_decay=hyperparams.reg)\n",
        "    scheduler = optim.lr_scheduler.StepLR(optimizer, hyperparams.anneal_epochs, gamma=anneal_coeff)\n",
        "\n",
        "    loss_history, train_history, val_history = train_model(lenet_model, train_aug_loader, val_loader, loss, optimizer, epoch_num, scheduler=scheduler)\n",
        "\n",
        "    run_result = RunResult(lenet_model, train_history, val_history, val_history[-1])\n",
        "\n",
        "    run_record[hyperparams] = run_result\n",
        "\n",
        "\n",
        "\n",
        "    \n"
      ]
    },
    {
      "cell_type": "code",
      "execution_count": 49,
      "metadata": {},
      "outputs": [
        {
          "name": "stdout",
          "output_type": "stream",
          "text": [
            "{Hyperparams(learning_rate=0.001, anneal_epochs=10, reg=1e-05): RunResult(model=Sequential(\n",
            "  (0): Conv2d(3, 6, kernel_size=(5, 5), stride=(1, 1), padding=(1, 1))\n",
            "  (1): Tanh()\n",
            "  (2): AvgPool2d(kernel_size=2, stride=2, padding=0)\n",
            "  (3): Conv2d(6, 16, kernel_size=(5, 5), stride=(1, 1), padding=(1, 1))\n",
            "  (4): Tanh()\n",
            "  (5): AvgPool2d(kernel_size=2, stride=2, padding=0)\n",
            "  (6): Conv2d(16, 120, kernel_size=(5, 5), stride=(1, 1), padding=(1, 1))\n",
            "  (7): Tanh()\n",
            "  (8): Flattener()\n",
            "  (9): Linear(in_features=1920, out_features=120, bias=True)\n",
            "  (10): Tanh()\n",
            "  (11): Linear(in_features=120, out_features=84, bias=True)\n",
            "  (12): Tanh()\n",
            "  (13): Linear(in_features=84, out_features=10, bias=True)\n",
            "), train_history=[0.9601747261372555, 0.9603965464286933, 0.9606695560181552, 0.9612667644951028, 0.9608401870115688, 0.960567177422107, 0.9611643858990547, 0.9617786574753439, 0.9620857932634884, 0.9625123707470224], val_history=[0.9156371578731827, 0.9159784315063818, 0.9160466862330217, 0.9161149409596615, 0.9163197051395809, 0.9164562145928605, 0.9164562145928605, 0.9158419220531022, 0.9157736673264624, 0.9161831956863012], final_val_accuracy=0.9161831956863012), Hyperparams(learning_rate=0.1, anneal_epochs=50, reg=1e-07): RunResult(model=Sequential(\n",
            "  (0): Conv2d(3, 6, kernel_size=(5, 5), stride=(1, 1), padding=(1, 1))\n",
            "  (1): Tanh()\n",
            "  (2): AvgPool2d(kernel_size=2, stride=2, padding=0)\n",
            "  (3): Conv2d(6, 16, kernel_size=(5, 5), stride=(1, 1), padding=(1, 1))\n",
            "  (4): Tanh()\n",
            "  (5): AvgPool2d(kernel_size=2, stride=2, padding=0)\n",
            "  (6): Conv2d(16, 120, kernel_size=(5, 5), stride=(1, 1), padding=(1, 1))\n",
            "  (7): Tanh()\n",
            "  (8): Flattener()\n",
            "  (9): Linear(in_features=1920, out_features=120, bias=True)\n",
            "  (10): Tanh()\n",
            "  (11): Linear(in_features=120, out_features=84, bias=True)\n",
            "  (12): Tanh()\n",
            "  (13): Linear(in_features=84, out_features=10, bias=True)\n",
            "), train_history=[0.9379756338941405, 0.9370201003310241, 0.9403132785039074, 0.9415759478551684, 0.9430775005972085, 0.9428556803057707, 0.9443060437497867, 0.9464048049687745, 0.9479746101081801, 0.9483841244923727], val_history=[0.8966623438673128, 0.8996655518394648, 0.9065592792300867, 0.9041021090710532, 0.902668759811617, 0.9043068732509726, 0.9050576752440106, 0.8930448433554024, 0.9029417787181763, 0.8995972971128251], final_val_accuracy=0.8995972971128251), Hyperparams(learning_rate=0.01, anneal_epochs=1, reg=1e-05): RunResult(model=Sequential(\n",
            "  (0): Conv2d(3, 6, kernel_size=(5, 5), stride=(1, 1), padding=(1, 1))\n",
            "  (1): Tanh()\n",
            "  (2): AvgPool2d(kernel_size=2, stride=2, padding=0)\n",
            "  (3): Conv2d(6, 16, kernel_size=(5, 5), stride=(1, 1), padding=(1, 1))\n",
            "  (4): Tanh()\n",
            "  (5): AvgPool2d(kernel_size=2, stride=2, padding=0)\n",
            "  (6): Conv2d(16, 120, kernel_size=(5, 5), stride=(1, 1), padding=(1, 1))\n",
            "  (7): Tanh()\n",
            "  (8): Flattener()\n",
            "  (9): Linear(in_features=1920, out_features=120, bias=True)\n",
            "  (10): Tanh()\n",
            "  (11): Linear(in_features=120, out_features=84, bias=True)\n",
            "  (12): Tanh()\n",
            "  (13): Linear(in_features=84, out_features=10, bias=True)\n",
            "), train_history=[0.9670852813705081, 0.9734327543254957, 0.9731256185373511, 0.9737910794116643, 0.9731768078353752, 0.9734839436235198, 0.9733133126301061, 0.9736545746169334, 0.9740470259017848, 0.9732621233320821], val_history=[0.9112688553682342, 0.9111323459149546, 0.9114053648215139, 0.9113371100948741, 0.9113371100948741, 0.9113371100948741, 0.9113371100948741, 0.9113371100948741, 0.9113371100948741, 0.9113371100948741], final_val_accuracy=0.9113371100948741), Hyperparams(learning_rate=0.1, anneal_epochs=50, reg=0.001): RunResult(model=Sequential(\n",
            "  (0): Conv2d(3, 6, kernel_size=(5, 5), stride=(1, 1), padding=(1, 1))\n",
            "  (1): Tanh()\n",
            "  (2): AvgPool2d(kernel_size=2, stride=2, padding=0)\n",
            "  (3): Conv2d(6, 16, kernel_size=(5, 5), stride=(1, 1), padding=(1, 1))\n",
            "  (4): Tanh()\n",
            "  (5): AvgPool2d(kernel_size=2, stride=2, padding=0)\n",
            "  (6): Conv2d(16, 120, kernel_size=(5, 5), stride=(1, 1), padding=(1, 1))\n",
            "  (7): Tanh()\n",
            "  (8): Flattener()\n",
            "  (9): Linear(in_features=1920, out_features=120, bias=True)\n",
            "  (10): Tanh()\n",
            "  (11): Linear(in_features=120, out_features=84, bias=True)\n",
            "  (12): Tanh()\n",
            "  (13): Linear(in_features=84, out_features=10, bias=True)\n",
            "), train_history=[0.9533324233013685, 0.9509606524929188, 0.9497662355390233, 0.9457905333924854, 0.943196942292598, 0.9422755349281644, 0.9390847353513292, 0.9366105859468313, 0.9356550523837149, 0.9333856601713135], val_history=[0.9059449866903283, 0.9058767319636885, 0.9043068732509726, 0.9079926284895229, 0.9023274861784178, 0.9103132891952768, 0.9062180055968876, 0.9004163538325028, 0.906832298136646, 0.9014401747321003], final_val_accuracy=0.9014401747321003), Hyperparams(learning_rate=0.1, anneal_epochs=10, reg=0.001): RunResult(model=Sequential(\n",
            "  (0): Conv2d(3, 6, kernel_size=(5, 5), stride=(1, 1), padding=(1, 1))\n",
            "  (1): Tanh()\n",
            "  (2): AvgPool2d(kernel_size=2, stride=2, padding=0)\n",
            "  (3): Conv2d(6, 16, kernel_size=(5, 5), stride=(1, 1), padding=(1, 1))\n",
            "  (4): Tanh()\n",
            "  (5): AvgPool2d(kernel_size=2, stride=2, padding=0)\n",
            "  (6): Conv2d(16, 120, kernel_size=(5, 5), stride=(1, 1), padding=(1, 1))\n",
            "  (7): Tanh()\n",
            "  (8): Flattener()\n",
            "  (9): Linear(in_features=1920, out_features=120, bias=True)\n",
            "  (10): Tanh()\n",
            "  (11): Linear(in_features=120, out_features=84, bias=True)\n",
            "  (12): Tanh()\n",
            "  (13): Linear(in_features=84, out_features=10, bias=True)\n",
            "), train_history=[0.9319864860253216, 0.9321571170187353, 0.9293246425280688, 0.9307920690714261, 0.9294782104221411, 0.9286933078524383, 0.9297341569122616, 0.9281984779715388, 0.9291710746339965, 0.9290686960379483], val_history=[0.9076513548563238, 0.8140741246331309, 0.8995972971128251, 0.9040338543444133, 0.9113371100948741, 0.9084704115760016, 0.9050576752440106, 0.9129752235342298, 0.887106682137738, 0.8904511637430892], final_val_accuracy=0.8904511637430892)}\n"
          ]
        }
      ],
      "source": [
        "print(run_record)"
      ]
    },
    {
      "cell_type": "code",
      "execution_count": 48,
      "metadata": {
        "id": "Y6xExdw8JB1l"
      },
      "outputs": [
        {
          "name": "stdout",
          "output_type": "stream",
          "text": [
            "Best validation accuracy: 0.92, best hyperparams: Hyperparams(learning_rate=0.001, anneal_epochs=10, reg=1e-05)\n"
          ]
        }
      ],
      "source": [
        "best_val_accuracy = None\n",
        "best_hyperparams = None\n",
        "best_run = None\n",
        "\n",
        "for hyperparams, run_result in run_record.items():\n",
        "    if best_val_accuracy is None or best_val_accuracy < run_result.final_val_accuracy:\n",
        "        best_val_accuracy = run_result.final_val_accuracy\n",
        "        best_hyperparams = hyperparams\n",
        "        best_run = run_result\n",
        "        \n",
        "print(\"Best validation accuracy: %4.2f, best hyperparams: %s\" % (best_val_accuracy, best_hyperparams))\n",
        "        "
      ]
    },
    {
      "cell_type": "markdown",
      "metadata": {
        "id": "LOmsR0uVgtgf"
      },
      "source": [
        "# Свободное упражнение - догоним и перегоним LeNet!\n",
        "\n",
        "Попробуйте найти архитектуру и настройки тренировки, чтобы выступить лучше наших бейзлайнов.\n",
        "\n",
        "Что можно и нужно попробовать:\n",
        "- BatchNormalization (для convolution layers он в PyTorch называется [batchnorm2d](https://pytorch.org/docs/stable/nn.html#batchnorm2d))\n",
        "- Изменить количество слоев и их толщину\n",
        "- Изменять количество эпох тренировки\n",
        "- Попробовать и другие агментации"
      ]
    },
    {
      "cell_type": "code",
      "execution_count": null,
      "metadata": {
        "id": "tSVhD747icoc"
      },
      "outputs": [],
      "source": [
        "best_model = None"
      ]
    },
    {
      "cell_type": "markdown",
      "metadata": {
        "id": "ubeKgBcnhx7N"
      },
      "source": [
        "# Финальный аккорд - проверим лучшую модель на test set\n",
        "\n",
        "В качестве разнообразия - напишите код для прогона модели на test set вы.\n",
        "\n",
        "В результате вы должны натренировать модель, которая покажет более **90%** точности на test set.  \n",
        "Как водится, лучший результат в группе получит дополнительные баллы!"
      ]
    },
    {
      "cell_type": "code",
      "execution_count": null,
      "metadata": {
        "id": "EIqM1kdeh-hd"
      },
      "outputs": [],
      "source": [
        "# TODO Write the code to compute accuracy on test set\n",
        "final_test_accuracy = 0.0\n",
        "print(\"Final test accuracy - \", final_test_accuracy)"
      ]
    },
    {
      "cell_type": "code",
      "execution_count": null,
      "metadata": {
        "id": "BfH6qip6kVX_"
      },
      "outputs": [],
      "source": []
    }
  ],
  "metadata": {
    "accelerator": "GPU",
    "colab": {
      "collapsed_sections": [],
      "name": "PyTorch_CNN.ipynb",
      "provenance": []
    },
    "interpreter": {
      "hash": "38740d3277777e2cd7c6c2cc9d8addf5118fdf3f82b1b39231fd12aeac8aee8b"
    },
    "kernelspec": {
      "display_name": "Python 3.7.0 64-bit",
      "name": "python3"
    },
    "language_info": {
      "codemirror_mode": {
        "name": "ipython",
        "version": 3
      },
      "file_extension": ".py",
      "mimetype": "text/x-python",
      "name": "python",
      "nbconvert_exporter": "python",
      "pygments_lexer": "ipython3",
      "version": "3.7.0"
    }
  },
  "nbformat": 4,
  "nbformat_minor": 2
}
