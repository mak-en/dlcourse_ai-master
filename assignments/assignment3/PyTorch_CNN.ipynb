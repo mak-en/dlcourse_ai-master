{
  "cells": [
    {
      "cell_type": "markdown",
      "metadata": {
        "id": "gymI-pT-bTvJ"
      },
      "source": [
        "# Задание 3.2 - сверточные нейронные сети (CNNs) в PyTorch\n",
        "\n",
        "Это упражнение мы буде выполнять в Google Colab - https://colab.research.google.com/  \n",
        "Google Colab позволяет запускать код в notebook в облаке Google, где можно воспользоваться бесплатным GPU!  \n",
        "\n",
        "Авторы курса благодарят компанию Google и надеятся, что праздник не закончится.\n",
        "\n",
        "Туториал по настройке Google Colab:  \n",
        "https://medium.com/deep-learning-turkey/google-colab-free-gpu-tutorial-e113627b9f5d  \n",
        "(Keras инсталлировать не нужно, наш notebook сам установит PyTorch)\n"
      ]
    },
    {
      "cell_type": "code",
      "execution_count": 1,
      "metadata": {
        "colab": {
          "base_uri": "https://localhost:8080/"
        },
        "id": "FcXBeP1O7cnY",
        "outputId": "17597db1-1278-47b7-e3b5-7555b92f133c"
      },
      "outputs": [],
      "source": [
        "# Intstall PyTorch and download data\n",
        "# !pip3 install torch torchvision\n",
        "\n",
        "# !python -m wget http://ufldl.stanford.edu/housenumbers/train_32x32.mat http://ufldl.stanford.edu/housenumbers/test_32x32.mat"
      ]
    },
    {
      "cell_type": "code",
      "execution_count": 2,
      "metadata": {
        "id": "-afwWw-Q85vD"
      },
      "outputs": [
        {
          "name": "stdout",
          "output_type": "stream",
          "text": [
            "1.7.1\n"
          ]
        }
      ],
      "source": [
        "from collections import namedtuple\n",
        "\n",
        "import matplotlib.pyplot as plt\n",
        "import numpy as np\n",
        "import PIL\n",
        "import torch\n",
        "import torch.nn as nn\n",
        "import torch.optim as optim\n",
        "import torchvision.datasets as dset\n",
        "from torch.utils.data.sampler import SubsetRandomSampler\n",
        "\n",
        "from torchvision import transforms\n",
        "\n",
        "print(torch.__version__)\n"
      ]
    },
    {
      "cell_type": "code",
      "execution_count": 3,
      "metadata": {
        "id": "NNU-OD9O9ltP"
      },
      "outputs": [
        {
          "data": {
            "text/plain": [
              "True"
            ]
          },
          "execution_count": 3,
          "metadata": {},
          "output_type": "execute_result"
        }
      ],
      "source": [
        "device = torch.device(\"cuda:0\") # Let's make sure GPU is available!\n",
        "torch.cuda.is_available()"
      ]
    },
    {
      "cell_type": "markdown",
      "metadata": {
        "id": "HaQooYL9bTvP"
      },
      "source": [
        "# Загружаем данные"
      ]
    },
    {
      "cell_type": "code",
      "execution_count": 4,
      "metadata": {
        "id": "YAvkoRx-9FsP"
      },
      "outputs": [],
      "source": [
        "# First, lets load the dataset\n",
        "data_train = dset.SVHN('./data/', split='train',\n",
        "                       transform=transforms.Compose([\n",
        "                           transforms.ToTensor(),\n",
        "                           transforms.Normalize(mean=[0.43,0.44,0.47],\n",
        "                                               std=[0.20,0.20,0.20])                           \n",
        "                       ])\n",
        "                      )\n",
        "data_test = dset.SVHN('./data/', split='test', transform=transforms.Compose([\n",
        "                           transforms.ToTensor(),\n",
        "                           transforms.Normalize(mean=[0.43,0.44,0.47],\n",
        "                                               std=[0.20,0.20,0.20])                           \n",
        "                       ]))"
      ]
    },
    {
      "cell_type": "markdown",
      "metadata": {
        "id": "RWWqU6PZbTvR"
      },
      "source": [
        "Разделяем данные на training и validation.\n",
        "\n",
        "На всякий случай для подробностей - https://pytorch.org/tutorials/beginner/data_loading_tutorial.html"
      ]
    },
    {
      "cell_type": "code",
      "execution_count": 5,
      "metadata": {
        "id": "YRnr8CPg7Hli"
      },
      "outputs": [],
      "source": [
        "batch_size = 64\n",
        "\n",
        "data_size = data_train.data.shape[0]\n",
        "validation_split = .2\n",
        "split = int(np.floor(validation_split * data_size))\n",
        "indices = list(range(data_size))\n",
        "np.random.shuffle(indices)\n",
        "\n",
        "train_indices, val_indices = indices[split:], indices[:split]\n",
        "\n",
        "train_sampler = SubsetRandomSampler(train_indices)\n",
        "val_sampler = SubsetRandomSampler(val_indices)\n",
        "\n",
        "train_loader = torch.utils.data.DataLoader(data_train, batch_size=batch_size, \n",
        "                                           sampler=train_sampler)\n",
        "val_loader = torch.utils.data.DataLoader(data_train, batch_size=batch_size,\n",
        "                                         sampler=val_sampler)"
      ]
    },
    {
      "cell_type": "code",
      "execution_count": 6,
      "metadata": {
        "id": "LyYvt-T67PBG"
      },
      "outputs": [],
      "source": [
        "# We'll use a special helper module to shape it into a flat tensor\n",
        "class Flattener(nn.Module):\n",
        "    def forward(self, x):\n",
        "        batch_size, *_ = x.shape\n",
        "        return x.view(batch_size, -1)"
      ]
    },
    {
      "cell_type": "markdown",
      "metadata": {
        "id": "3EaO5VzFbTvU"
      },
      "source": [
        "Создадим простейшую сеть с новыми слоями:  \n",
        "Convolutional - `nn.Conv2d`  \n",
        "MaxPool - `nn.MaxPool2d`"
      ]
    },
    {
      "cell_type": "code",
      "execution_count": 7,
      "metadata": {
        "id": "w9SFVGZP7SQd"
      },
      "outputs": [],
      "source": [
        "nn_model = nn.Sequential(\n",
        "            nn.Conv2d(3, 64, 3, padding=1),\n",
        "            nn.ReLU(inplace=True),\n",
        "            nn.MaxPool2d(4),\n",
        "            nn.Conv2d(64, 64, 3, padding=1),\n",
        "            nn.ReLU(inplace=True),\n",
        "            nn.MaxPool2d(4),    \n",
        "            Flattener(),\n",
        "            nn.Linear(64*2*2, 10),\n",
        "          )\n",
        "\n",
        "nn_model.type(torch.cuda.FloatTensor)\n",
        "nn_model.to(device)\n",
        "\n",
        "loss = nn.CrossEntropyLoss().type(torch.cuda.FloatTensor)\n",
        "optimizer = optim.SGD(nn_model.parameters(), lr=1e-1, weight_decay=1e-4)"
      ]
    },
    {
      "cell_type": "markdown",
      "metadata": {
        "id": "IVpAv4mJbTvV"
      },
      "source": [
        "Восстановите функцию `compute_accuracy` из прошлого задания.  \n",
        "Единственное отличие в новом - она должна передать данные на GPU прежде чем прогонять через модель. Сделайте это так же, как это делает функция `train_model`"
      ]
    },
    {
      "cell_type": "code",
      "execution_count": 8,
      "metadata": {
        "colab": {
          "base_uri": "https://localhost:8080/"
        },
        "id": "2ek3KVQK7hJ6",
        "outputId": "2eaa3c25-85bc-4222-8b55-20ebbeb13f4b"
      },
      "outputs": [
        {
          "name": "stdout",
          "output_type": "stream",
          "text": [
            "Average loss: 1.390966, Train accuracy: 0.535508, Val accuracy: 0.704935\n",
            "Average loss: 0.707754, Train accuracy: 0.784203, Val accuracy: 0.812095\n",
            "Average loss: 0.602157, Train accuracy: 0.819865, Val accuracy: 0.822469\n",
            "Average loss: 0.554444, Train accuracy: 0.835802, Val accuracy: 0.827657\n",
            "Average loss: 0.520204, Train accuracy: 0.845715, Val accuracy: 0.838373\n"
          ]
        }
      ],
      "source": [
        "def train_model(model, train_loader, val_loader, loss, optimizer, num_epochs, scheduler=None):    \n",
        "    loss_history = []\n",
        "    train_history = []\n",
        "    val_history = []\n",
        "    for epoch in range(num_epochs):\n",
        "        model.train() # Enter train mode\n",
        "        \n",
        "        loss_accum = 0\n",
        "        correct_samples = 0\n",
        "        total_samples = 0\n",
        "        for i_step, (x, y) in enumerate(train_loader):\n",
        "          \n",
        "            x_gpu = x.to(device)\n",
        "            y_gpu = y.to(device)\n",
        "            prediction = model(x_gpu)    \n",
        "            loss_value = loss(prediction, y_gpu)\n",
        "            optimizer.zero_grad()\n",
        "            loss_value.backward()\n",
        "            optimizer.step()\n",
        "            \n",
        "            _, indices = torch.max(prediction, 1)\n",
        "            correct_samples += torch.sum(indices == y_gpu)\n",
        "            total_samples += y.shape[0]\n",
        "            \n",
        "            loss_accum += loss_value\n",
        "\n",
        "        ave_loss = loss_accum / i_step\n",
        "        train_accuracy = float(correct_samples) / total_samples\n",
        "        val_accuracy = compute_accuracy(model, val_loader)\n",
        "        \n",
        "        loss_history.append(float(ave_loss))\n",
        "        train_history.append(train_accuracy)\n",
        "        val_history.append(val_accuracy)\n",
        "        \n",
        "        print(\"Average loss: %f, Train accuracy: %f, Val accuracy: %f\" % (ave_loss, train_accuracy, val_accuracy))\n",
        "\n",
        "        if scheduler:\n",
        "            scheduler.step()\n",
        "        \n",
        "    return loss_history, train_history, val_history\n",
        "        \n",
        "def compute_accuracy(model, loader):\n",
        "    \"\"\"\n",
        "    Computes accuracy on the dataset wrapped in a loader\n",
        "    \n",
        "    Returns: accuracy as a float value between 0 and 1\n",
        "    \"\"\"\n",
        "    model.eval() # Evaluation mode\n",
        "    # TODO: Copy implementation from previous assignment\n",
        "    # Don't forget to move the data to device before running it through the model!\n",
        "    \n",
        "    correct_samples = 0\n",
        "    total_samples = 0\n",
        "    for i_step, (x, y) in enumerate(loader):\n",
        "\n",
        "        x_gpu = x.to(device)\n",
        "        y_gpu = y.to(device)\n",
        "        prediction = model(x_gpu)\n",
        "\n",
        "        _, indices = torch.max(prediction, 1)\n",
        "        correct_samples += torch.sum(indices == y_gpu)\n",
        "        total_samples += y.shape[0]\n",
        "\n",
        "    val_accuracy = float(correct_samples) / total_samples    \n",
        "    \n",
        "    \n",
        "    return val_accuracy\n",
        "\n",
        "loss_history, train_history, val_history = train_model(nn_model, train_loader, val_loader, loss, optimizer, 5)"
      ]
    },
    {
      "cell_type": "markdown",
      "metadata": {
        "id": "6a-3a1ZFGEw_"
      },
      "source": [
        "# Аугментация данных (Data augmentation)\n",
        "\n",
        "В работе с изображениями одним из особенно важных методов является аугментация данных - то есть, генерация дополнительных данных для тренировки на основе изначальных.   \n",
        "Таким образом, мы получаем возможность \"увеличить\" набор данных для тренировки, что ведет к лучшей работе сети.\n",
        "Важно, чтобы аугментированные данные были похожи на те, которые могут встретиться в реальной жизни, иначе польза от аугментаций уменьшается и может ухудшить работу сети.\n",
        "\n",
        "С PyTorch идут несколько таких алгоритмов, называемых `transforms`. Более подробно про них можно прочитать тут -\n",
        "https://pytorch.org/tutorials/beginner/data_loading_tutorial.html#transforms\n",
        "\n",
        "Ниже мы используем следующие алгоритмы генерации:\n",
        "- ColorJitter - случайное изменение цвета\n",
        "- RandomHorizontalFlip - горизонтальное отражение с вероятностью 50%\n",
        "- RandomVerticalFlip - вертикальное отражение с вероятностью 50%\n",
        "- RandomRotation - случайный поворот"
      ]
    },
    {
      "cell_type": "code",
      "execution_count": 9,
      "metadata": {
        "colab": {
          "base_uri": "https://localhost:8080/"
        },
        "id": "jCWMUWmr7t5g",
        "outputId": "f0d6ef0d-4063-49b4-f1ad-2c7547a24b60"
      },
      "outputs": [],
      "source": [
        "tfs = transforms.Compose([\n",
        "    transforms.ColorJitter(hue=.50, saturation=.50),\n",
        "    transforms.RandomHorizontalFlip(),\n",
        "    transforms.RandomVerticalFlip(),\n",
        "    transforms.RandomRotation(50, resample=PIL.Image.BILINEAR),\n",
        "    transforms.ToTensor(),\n",
        "    transforms.Normalize(mean=[0.43,0.44,0.47],\n",
        "                       std=[0.20,0.20,0.20])                           \n",
        "])\n",
        "\n",
        "# Create augmented train dataset\n",
        "data_aug_train = dset.SVHN('./data/', \n",
        "                       transform=tfs\n",
        "                      )\n",
        "\n",
        "train_aug_loader = torch.utils.data.DataLoader(data_aug_train, batch_size=batch_size, \n",
        "                                           sampler=train_sampler)"
      ]
    },
    {
      "cell_type": "markdown",
      "metadata": {
        "id": "jND-xulPbTvX"
      },
      "source": [
        "Визуализируем результаты агментации (вообще, смотреть на сгенерированные данные всегда очень полезно)."
      ]
    },
    {
      "cell_type": "code",
      "execution_count": 10,
      "metadata": {
        "colab": {
          "base_uri": "https://localhost:8080/",
          "height": 208
        },
        "id": "YlJJEro1KZ45",
        "outputId": "fef5fb01-93a5-4481-c2ee-fa122498cebf"
      },
      "outputs": [
        {
          "data": {
            "image/png": "[encoded data removed]",
            "text/plain": [
              "<Figure size 2160x216 with 10 Axes>"
            ]
          },
          "metadata": {
            "needs_background": "light"
          },
          "output_type": "display_data"
        }
      ],
      "source": [
        "# TODO: Visualize some augmented images!\n",
        "# hint: you can create new datasets and loaders to accomplish this\n",
        "\n",
        "# Based on the visualizations, should we keep all the augmentations?\n",
        "\n",
        "tfs = transforms.Compose([\n",
        "    transforms.ColorJitter(hue=.20, saturation=.20),\n",
        "    transforms.RandomHorizontalFlip(),\n",
        "    transforms.RandomVerticalFlip(),\n",
        "    transforms.RandomRotation(10, resample=PIL.Image.BILINEAR),\n",
        "])\n",
        "\n",
        "data_aug_vis = dset.SVHN('./data/', \n",
        "                       transform=tfs\n",
        "                      )\n",
        "\n",
        "plt.figure(figsize=(30, 3))\n",
        "\n",
        "for i, (x, y) in enumerate(data_aug_vis):\n",
        "    if i == 10:\n",
        "        break\n",
        "    plt.subplot(1, 10, i+1)\n",
        "    plt.grid(False)\n",
        "    plt.imshow(x)\n",
        "    plt.axis('off')"
      ]
    },
    {
      "cell_type": "markdown",
      "metadata": {
        "id": "o2LrmsYHoguB"
      },
      "source": [
        "Все ли агментации одинаково полезны на этом наборе данных? Могут ли быть среди них те, которые собьют модель с толку?\n",
        "\n",
        "Выберите из них только корректные"
      ]
    },
    {
      "cell_type": "code",
      "execution_count": 11,
      "metadata": {
        "colab": {
          "base_uri": "https://localhost:8080/"
        },
        "id": "evro9ksXGs9u",
        "outputId": "f972bdf5-de05-465e-d79a-7288ab038d94"
      },
      "outputs": [],
      "source": [
        "# TODO: \n",
        "tfs = transforms.Compose([\n",
        "    # TODO: Add good augmentations\n",
        "    transforms.ColorJitter(hue=.20, saturation=.20),\n",
        "    transforms.RandomRotation(10, resample=PIL.Image.BILINEAR),\n",
        "    transforms.ToTensor(),\n",
        "    transforms.Normalize(mean=[0.43,0.44,0.47],\n",
        "                       std=[0.20,0.20,0.20])                           \n",
        "])\n",
        "\n",
        "# TODO create new instances of loaders with the augmentations you chose\n",
        "data_aug_my_train = dset.SVHN('./data/', \n",
        "                       transform=tfs\n",
        "                      )\n",
        "\n",
        "train_aug_loader = torch.utils.data.DataLoader(data_aug_my_train, batch_size=batch_size, \n",
        "                                           sampler=train_sampler)"
      ]
    },
    {
      "cell_type": "code",
      "execution_count": 12,
      "metadata": {
        "colab": {
          "base_uri": "https://localhost:8080/"
        },
        "id": "PeO6Zw0DHqPR",
        "outputId": "a4a9997e-9d9a-411c-bba4-815a001d0903"
      },
      "outputs": [
        {
          "name": "stdout",
          "output_type": "stream",
          "text": [
            "Average loss: 0.626222, Train accuracy: 0.811521, Val accuracy: 0.810730\n",
            "Average loss: 0.568305, Train accuracy: 0.825649, Val accuracy: 0.842878\n",
            "Average loss: 0.551908, Train accuracy: 0.832986, Val accuracy: 0.816668\n",
            "Average loss: 0.533631, Train accuracy: 0.839351, Val accuracy: 0.841035\n",
            "Average loss: 0.516225, Train accuracy: 0.845255, Val accuracy: 0.831070\n"
          ]
        }
      ],
      "source": [
        "# Finally, let's train with augmentations!\n",
        "\n",
        "# Note we shouldn't use augmentations on validation\n",
        "\n",
        "loss_history, train_history, val_history = train_model(nn_model, train_aug_loader, val_loader, loss, optimizer, 5)"
      ]
    },
    {
      "cell_type": "markdown",
      "metadata": {
        "id": "r0bcioK6JBDK"
      },
      "source": [
        "# LeNet\n",
        "Попробуем имплементировать классическую архитектуру сверточной нейронной сети, предложенную Яном ЛеКуном в 1998 году. В свое время она достигла впечатляющих результатов на MNIST, посмотрим как она справится с SVHN?\n",
        "Она описана в статье [\"Gradient Based Learning Applied to Document Recognition\"](http://yann.lecun.com/exdb/publis/pdf/lecun-01a.pdf), попробуйте прочитать ключевые части и имплементировать предложенную архитетуру на PyTorch.\n",
        "\n",
        "Реализовывать слои и функцию ошибки LeNet, которых нет в PyTorch, **не нужно** - просто возьмите их размеры и переведите в уже известные нам Convolutional, Pooling и Fully Connected layers.\n",
        "\n",
        "Если в статье не очень понятно, можно просто погуглить LeNet и разобраться в деталях :)"
      ]
    },
    {
      "cell_type": "code",
      "execution_count": 13,
      "metadata": {
        "id": "ieEzZUglJAUB"
      },
      "outputs": [],
      "source": [
        "# TODO: Implement LeNet-like architecture for SVHN task\n",
        "lenet_model = nn.Sequential(\n",
        "        nn.Conv2d(3, 6, 5, padding=1),\n",
        "        nn.Tanh(),\n",
        "        nn.AvgPool2d(2),\n",
        "        nn.Conv2d(6, 16, 5, padding=1),\n",
        "        nn.Tanh(),\n",
        "        nn.AvgPool2d(2),\n",
        "        nn.Conv2d(16, 120, 5, padding=1),\n",
        "        nn.Tanh(),\n",
        "        Flattener(),\n",
        "        nn.Linear(1920, 120),\n",
        "        nn.Tanh(),\n",
        "        nn.Linear(120, 84),\n",
        "        nn.Tanh(),\n",
        "        nn.Linear(84, 10)\n",
        "          )\n",
        "\n",
        "lenet_model.type(torch.cuda.FloatTensor)\n",
        "lenet_model.to(device)\n",
        "\n",
        "loss = nn.CrossEntropyLoss().type(torch.cuda.FloatTensor)\n",
        "optimizer = optim.SGD(lenet_model.parameters(), lr=1e-1, weight_decay=1e-4)"
      ]
    },
    {
      "cell_type": "code",
      "execution_count": 14,
      "metadata": {},
      "outputs": [
        {
          "name": "stdout",
          "output_type": "stream",
          "text": [
            "==========================================================================================\n",
            "Layer (type:depth-idx)                   Output Shape              Param #\n",
            "==========================================================================================\n",
            "├─Conv2d: 1-1                            [-1, 6, 30, 30]           456\n",
            "├─Tanh: 1-2                              [-1, 6, 30, 30]           --\n",
            "├─AvgPool2d: 1-3                         [-1, 6, 15, 15]           --\n",
            "├─Conv2d: 1-4                            [-1, 16, 13, 13]          2,416\n",
            "├─Tanh: 1-5                              [-1, 16, 13, 13]          --\n",
            "├─AvgPool2d: 1-6                         [-1, 16, 6, 6]            --\n",
            "├─Conv2d: 1-7                            [-1, 120, 4, 4]           48,120\n",
            "├─Tanh: 1-8                              [-1, 120, 4, 4]           --\n",
            "├─Flattener: 1-9                         [-1, 1920]                --\n",
            "├─Linear: 1-10                           [-1, 120]                 230,520\n",
            "├─Tanh: 1-11                             [-1, 120]                 --\n",
            "├─Linear: 1-12                           [-1, 84]                  10,164\n",
            "├─Tanh: 1-13                             [-1, 84]                  --\n",
            "├─Linear: 1-14                           [-1, 10]                  850\n",
            "==========================================================================================\n",
            "Total params: 292,526\n",
            "Trainable params: 292,526\n",
            "Non-trainable params: 0\n",
            "Total mult-adds (M): 1.82\n",
            "==========================================================================================\n",
            "Input size (MB): 0.01\n",
            "Forward/backward pass size (MB): 0.08\n",
            "Params size (MB): 1.12\n",
            "Estimated Total Size (MB): 1.21\n",
            "==========================================================================================\n"
          ]
        },
        {
          "data": {
            "text/plain": [
              "==========================================================================================\n",
              "Layer (type:depth-idx)                   Output Shape              Param #\n",
              "==========================================================================================\n",
              "├─Conv2d: 1-1                            [-1, 6, 30, 30]           456\n",
              "├─Tanh: 1-2                              [-1, 6, 30, 30]           --\n",
              "├─AvgPool2d: 1-3                         [-1, 6, 15, 15]           --\n",
              "├─Conv2d: 1-4                            [-1, 16, 13, 13]          2,416\n",
              "├─Tanh: 1-5                              [-1, 16, 13, 13]          --\n",
              "├─AvgPool2d: 1-6                         [-1, 16, 6, 6]            --\n",
              "├─Conv2d: 1-7                            [-1, 120, 4, 4]           48,120\n",
              "├─Tanh: 1-8                              [-1, 120, 4, 4]           --\n",
              "├─Flattener: 1-9                         [-1, 1920]                --\n",
              "├─Linear: 1-10                           [-1, 120]                 230,520\n",
              "├─Tanh: 1-11                             [-1, 120]                 --\n",
              "├─Linear: 1-12                           [-1, 84]                  10,164\n",
              "├─Tanh: 1-13                             [-1, 84]                  --\n",
              "├─Linear: 1-14                           [-1, 10]                  850\n",
              "==========================================================================================\n",
              "Total params: 292,526\n",
              "Trainable params: 292,526\n",
              "Non-trainable params: 0\n",
              "Total mult-adds (M): 1.82\n",
              "==========================================================================================\n",
              "Input size (MB): 0.01\n",
              "Forward/backward pass size (MB): 0.08\n",
              "Params size (MB): 1.12\n",
              "Estimated Total Size (MB): 1.21\n",
              "=========================================================================================="
            ]
          },
          "execution_count": 14,
          "metadata": {},
          "output_type": "execute_result"
        }
      ],
      "source": [
        "from torchsummary import summary\n",
        "summary(lenet_model, (3, 32, 32))"
      ]
    },
    {
      "cell_type": "code",
      "execution_count": 15,
      "metadata": {
        "id": "WMmaPfdeKk9H"
      },
      "outputs": [
        {
          "name": "stdout",
          "output_type": "stream",
          "text": [
            "Average loss: 1.980997, Train accuracy: 0.304030, Val accuracy: 0.694560\n",
            "Average loss: 0.701792, Train accuracy: 0.786097, Val accuracy: 0.820900\n",
            "Average loss: 0.517134, Train accuracy: 0.841637, Val accuracy: 0.874138\n",
            "Average loss: 0.446381, Train accuracy: 0.864997, Val accuracy: 0.875094\n",
            "Average loss: 0.400921, Train accuracy: 0.877862, Val accuracy: 0.882943\n",
            "Average loss: 0.373021, Train accuracy: 0.886172, Val accuracy: 0.891475\n",
            "Average loss: 0.347615, Train accuracy: 0.895028, Val accuracy: 0.884991\n",
            "Average loss: 0.332759, Train accuracy: 0.898986, Val accuracy: 0.896048\n",
            "Average loss: 0.316150, Train accuracy: 0.903542, Val accuracy: 0.899461\n",
            "Average loss: 0.300794, Train accuracy: 0.908627, Val accuracy: 0.904512\n"
          ]
        }
      ],
      "source": [
        "# Let's train it!\n",
        "loss_history, train_history, val_history = train_model(lenet_model, train_aug_loader, val_loader, loss, optimizer, 10)"
      ]
    },
    {
      "cell_type": "markdown",
      "metadata": {
        "id": "u_O9qiYySvuj"
      },
      "source": [
        "# Подбор гиперпараметров"
      ]
    },
    {
      "cell_type": "code",
      "execution_count": 16,
      "metadata": {
        "id": "i6mhfdQ9K-N3"
      },
      "outputs": [
        {
          "name": "stdout",
          "output_type": "stream",
          "text": [
            "\n",
            "0 attempt\n",
            "Average loss: 0.250632, Train accuracy: 0.924308, Val accuracy: 0.912088\n",
            "Average loss: 0.239983, Train accuracy: 0.928471, Val accuracy: 0.912634\n",
            "Average loss: 0.234200, Train accuracy: 0.930451, Val accuracy: 0.913521\n",
            "Average loss: 0.232992, Train accuracy: 0.930604, Val accuracy: 0.914204\n",
            "Average loss: 0.229013, Train accuracy: 0.932055, Val accuracy: 0.914409\n",
            "Average loss: 0.228850, Train accuracy: 0.932498, Val accuracy: 0.914750\n",
            "Average loss: 0.226563, Train accuracy: 0.932993, Val accuracy: 0.915569\n",
            "Average loss: 0.224543, Train accuracy: 0.934051, Val accuracy: 0.914955\n",
            "Average loss: 0.226905, Train accuracy: 0.933130, Val accuracy: 0.915637\n",
            "Average loss: 0.225042, Train accuracy: 0.933863, Val accuracy: 0.915432\n",
            "\n",
            "1 attempt\n",
            "Average loss: 0.286794, Train accuracy: 0.911716, Val accuracy: 0.905126\n",
            "Average loss: 0.275164, Train accuracy: 0.915794, Val accuracy: 0.907310\n",
            "Average loss: 0.264336, Train accuracy: 0.918899, Val accuracy: 0.902327\n",
            "Average loss: 0.254983, Train accuracy: 0.921424, Val accuracy: 0.905058\n",
            "Average loss: 0.245566, Train accuracy: 0.924257, Val accuracy: 0.901577\n",
            "Average loss: 0.238694, Train accuracy: 0.926612, Val accuracy: 0.905399\n",
            "Average loss: 0.231865, Train accuracy: 0.928949, Val accuracy: 0.906081\n",
            "Average loss: 0.223611, Train accuracy: 0.931372, Val accuracy: 0.907583\n",
            "Average loss: 0.220091, Train accuracy: 0.931935, Val accuracy: 0.906901\n",
            "Average loss: 0.208843, Train accuracy: 0.935757, Val accuracy: 0.901577\n",
            "\n",
            "2 attempt\n",
            "Average loss: 0.153827, Train accuracy: 0.954970, Val accuracy: 0.918094\n",
            "Average loss: 0.140997, Train accuracy: 0.959697, Val accuracy: 0.917890\n",
            "Average loss: 0.139660, Train accuracy: 0.959816, Val accuracy: 0.917890\n",
            "Average loss: 0.139678, Train accuracy: 0.960209, Val accuracy: 0.917958\n",
            "Average loss: 0.137858, Train accuracy: 0.961079, Val accuracy: 0.917890\n",
            "Average loss: 0.138757, Train accuracy: 0.960192, Val accuracy: 0.917890\n",
            "Average loss: 0.139089, Train accuracy: 0.960414, Val accuracy: 0.917890\n",
            "Average loss: 0.138502, Train accuracy: 0.960328, Val accuracy: 0.917890\n",
            "Average loss: 0.138425, Train accuracy: 0.960823, Val accuracy: 0.917890\n",
            "Average loss: 0.139612, Train accuracy: 0.960226, Val accuracy: 0.917890\n",
            "\n",
            "3 attempt\n",
            "Average loss: 0.203418, Train accuracy: 0.937088, Val accuracy: 0.909494\n",
            "Average loss: 0.206040, Train accuracy: 0.935928, Val accuracy: 0.910518\n",
            "Average loss: 0.211003, Train accuracy: 0.934222, Val accuracy: 0.905331\n",
            "Average loss: 0.219360, Train accuracy: 0.931935, Val accuracy: 0.908675\n",
            "Average loss: 0.225188, Train accuracy: 0.929871, Val accuracy: 0.909221\n",
            "Average loss: 0.228584, Train accuracy: 0.930280, Val accuracy: 0.906491\n",
            "Average loss: 0.231059, Train accuracy: 0.929308, Val accuracy: 0.898505\n",
            "Average loss: 0.234538, Train accuracy: 0.927294, Val accuracy: 0.906628\n",
            "Average loss: 0.239578, Train accuracy: 0.925946, Val accuracy: 0.905740\n",
            "Average loss: 0.245470, Train accuracy: 0.925212, Val accuracy: 0.912020\n",
            "\n",
            "4 attempt\n",
            "Average loss: 0.245107, Train accuracy: 0.925178, Val accuracy: 0.909972\n",
            "Average loss: 0.243881, Train accuracy: 0.923864, Val accuracy: 0.911815\n",
            "Average loss: 0.239558, Train accuracy: 0.926629, Val accuracy: 0.913385\n",
            "Average loss: 0.241836, Train accuracy: 0.925417, Val accuracy: 0.891748\n",
            "Average loss: 0.244289, Train accuracy: 0.924513, Val accuracy: 0.905262\n",
            "Average loss: 0.241525, Train accuracy: 0.924991, Val accuracy: 0.914204\n",
            "Average loss: 0.249050, Train accuracy: 0.923882, Val accuracy: 0.896185\n",
            "Average loss: 0.243845, Train accuracy: 0.925110, Val accuracy: 0.904512\n",
            "Average loss: 0.243531, Train accuracy: 0.925366, Val accuracy: 0.906218\n",
            "Average loss: 0.243436, Train accuracy: 0.925673, Val accuracy: 0.906491\n"
          ]
        }
      ],
      "source": [
        "# The key hyperparameters we're going to tune are learning speed, annealing rate and regularization\n",
        "# We also encourage you to try different optimizers as well\n",
        "\n",
        "Hyperparams = namedtuple(\"Hyperparams\", ['learning_rate', 'anneal_epochs', 'reg'])\n",
        "RunResult = namedtuple(\"RunResult\", ['model', 'train_history', 'val_history', 'final_val_accuracy'])\n",
        "\n",
        "learning_rates = [1e0, 1e-1, 1e-2, 1e-3, 1e-4]\n",
        "anneal_coeff = 0.2\n",
        "anneal_epochs = [1, 5, 10, 15, 20, 50]\n",
        "reg = [1e-3, 1e-4, 1e-5, 1e-7]\n",
        "\n",
        "# batch_size = 64\n",
        "epoch_num = 10\n",
        "\n",
        "# Record all the runs here\n",
        "# Key should be Hyperparams and values should be RunResult\n",
        "run_record = {} \n",
        "\n",
        "# Use grid search or random search and record all runs in run_record dictionnary \n",
        "# Important: perform search in logarithmic space!\n",
        "import random\n",
        "random.seed(50)\n",
        "MAX_EVALS = 5\n",
        "\n",
        "for i in range(MAX_EVALS):\n",
        "    print(f\"\\n{i} attempt\")\n",
        "\n",
        "    hyperparams = Hyperparams(random.choice(learning_rates),\n",
        "                              random.choice(anneal_epochs),\n",
        "                              random.choice(reg))\n",
        "\n",
        "    optimizer = optim.SGD(lenet_model.parameters(), lr=hyperparams.learning_rate,\n",
        "                          weight_decay=hyperparams.reg)\n",
        "    scheduler = optim.lr_scheduler.StepLR(optimizer, hyperparams.anneal_epochs, gamma=anneal_coeff)\n",
        "\n",
        "    loss_history, train_history, val_history = train_model(lenet_model, train_aug_loader, val_loader, loss, optimizer, epoch_num, scheduler=scheduler)\n",
        "\n",
        "    run_result = RunResult(lenet_model, train_history, val_history, val_history[-1])\n",
        "\n",
        "    run_record[hyperparams] = run_result\n",
        "\n",
        "\n",
        "\n",
        "    \n"
      ]
    },
    {
      "cell_type": "code",
      "execution_count": 17,
      "metadata": {},
      "outputs": [
        {
          "name": "stdout",
          "output_type": "stream",
          "text": [
            "{Hyperparams(learning_rate=0.001, anneal_epochs=10, reg=1e-05): RunResult(model=Sequential(\n",
            "  (0): Conv2d(3, 6, kernel_size=(5, 5), stride=(1, 1), padding=(1, 1))\n",
            "  (1): Tanh()\n",
            "  (2): AvgPool2d(kernel_size=2, stride=2, padding=0)\n",
            "  (3): Conv2d(6, 16, kernel_size=(5, 5), stride=(1, 1), padding=(1, 1))\n",
            "  (4): Tanh()\n",
            "  (5): AvgPool2d(kernel_size=2, stride=2, padding=0)\n",
            "  (6): Conv2d(16, 120, kernel_size=(5, 5), stride=(1, 1), padding=(1, 1))\n",
            "  (7): Tanh()\n",
            "  (8): Flattener()\n",
            "  (9): Linear(in_features=1920, out_features=120, bias=True)\n",
            "  (10): Tanh()\n",
            "  (11): Linear(in_features=120, out_features=84, bias=True)\n",
            "  (12): Tanh()\n",
            "  (13): Linear(in_features=84, out_features=10, bias=True)\n",
            "), train_history=[0.9243080913217077, 0.9284714875610006, 0.9304508070845988, 0.9306043749786711, 0.932054738422687, 0.9324983790055625, 0.9329932088864621, 0.9340511210456267, 0.933129713681193, 0.9338634269528717], val_history=[0.9120879120879121, 0.9126339499010306, 0.9135212613473483, 0.9142038086137465, 0.9144085727936659, 0.9147498464268651, 0.9155689031465429, 0.9149546106067845, 0.9156371578731827, 0.9154323936932632], final_val_accuracy=0.9154323936932632), Hyperparams(learning_rate=0.1, anneal_epochs=50, reg=1e-07): RunResult(model=Sequential(\n",
            "  (0): Conv2d(3, 6, kernel_size=(5, 5), stride=(1, 1), padding=(1, 1))\n",
            "  (1): Tanh()\n",
            "  (2): AvgPool2d(kernel_size=2, stride=2, padding=0)\n",
            "  (3): Conv2d(6, 16, kernel_size=(5, 5), stride=(1, 1), padding=(1, 1))\n",
            "  (4): Tanh()\n",
            "  (5): AvgPool2d(kernel_size=2, stride=2, padding=0)\n",
            "  (6): Conv2d(16, 120, kernel_size=(5, 5), stride=(1, 1), padding=(1, 1))\n",
            "  (7): Tanh()\n",
            "  (8): Flattener()\n",
            "  (9): Linear(in_features=1920, out_features=120, bias=True)\n",
            "  (10): Tanh()\n",
            "  (11): Linear(in_features=120, out_features=84, bias=True)\n",
            "  (12): Tanh()\n",
            "  (13): Linear(in_features=84, out_features=10, bias=True)\n",
            "), train_history=[0.9117155240077808, 0.9157936047503669, 0.9188990888304952, 0.9214244275330171, 0.9242569020236836, 0.9266116097327919, 0.9289492543425588, 0.9313722144490325, 0.9319352967272976, 0.9357574309797632], val_history=[0.9051259299706504, 0.9073100812231247, 0.9023274861784178, 0.9050576752440106, 0.9015766841853798, 0.9053989488772097, 0.9060814961436079, 0.907583100129684, 0.9069005528632857, 0.9015766841853798], final_val_accuracy=0.9015766841853798), Hyperparams(learning_rate=0.01, anneal_epochs=1, reg=1e-05): RunResult(model=Sequential(\n",
            "  (0): Conv2d(3, 6, kernel_size=(5, 5), stride=(1, 1), padding=(1, 1))\n",
            "  (1): Tanh()\n",
            "  (2): AvgPool2d(kernel_size=2, stride=2, padding=0)\n",
            "  (3): Conv2d(6, 16, kernel_size=(5, 5), stride=(1, 1), padding=(1, 1))\n",
            "  (4): Tanh()\n",
            "  (5): AvgPool2d(kernel_size=2, stride=2, padding=0)\n",
            "  (6): Conv2d(16, 120, kernel_size=(5, 5), stride=(1, 1), padding=(1, 1))\n",
            "  (7): Tanh()\n",
            "  (8): Flattener()\n",
            "  (9): Linear(in_features=1920, out_features=120, bias=True)\n",
            "  (10): Tanh()\n",
            "  (11): Linear(in_features=120, out_features=84, bias=True)\n",
            "  (12): Tanh()\n",
            "  (13): Linear(in_features=84, out_features=10, bias=True)\n",
            "), train_history=[0.9549704808381394, 0.9596969593556973, 0.9598164010510869, 0.9602088523359383, 0.9610790704023479, 0.960191789236597, 0.9604136095280347, 0.9603282940313278, 0.9608231239122275, 0.9602259154352797], val_history=[0.9180943280322162, 0.9178895638522968, 0.9178895638522968, 0.9179578185789365, 0.9178895638522968, 0.9178895638522968, 0.9178895638522968, 0.9178895638522968, 0.9178895638522968, 0.9178895638522968], final_val_accuracy=0.9178895638522968), Hyperparams(learning_rate=0.1, anneal_epochs=50, reg=0.001): RunResult(model=Sequential(\n",
            "  (0): Conv2d(3, 6, kernel_size=(5, 5), stride=(1, 1), padding=(1, 1))\n",
            "  (1): Tanh()\n",
            "  (2): AvgPool2d(kernel_size=2, stride=2, padding=0)\n",
            "  (3): Conv2d(6, 16, kernel_size=(5, 5), stride=(1, 1), padding=(1, 1))\n",
            "  (4): Tanh()\n",
            "  (5): AvgPool2d(kernel_size=2, stride=2, padding=0)\n",
            "  (6): Conv2d(16, 120, kernel_size=(5, 5), stride=(1, 1), padding=(1, 1))\n",
            "  (7): Tanh()\n",
            "  (8): Flattener()\n",
            "  (9): Linear(in_features=1920, out_features=120, bias=True)\n",
            "  (10): Tanh()\n",
            "  (11): Linear(in_features=120, out_features=84, bias=True)\n",
            "  (12): Tanh()\n",
            "  (13): Linear(in_features=84, out_features=10, bias=True)\n",
            "), train_history=[0.9370883527283896, 0.9359280619731768, 0.9342217520390403, 0.9319352967272976, 0.9298706617069925, 0.9302801760911852, 0.9293075794287274, 0.9272941337064464, 0.9259461488584787, 0.9252124355868], val_history=[0.9094942324755989, 0.9105180533751962, 0.9053306941505699, 0.908675175755921, 0.9092212135690396, 0.9064910245034469, 0.898505221486588, 0.9066275339567265, 0.9057402225104089, 0.9120196573612722], final_val_accuracy=0.9120196573612722), Hyperparams(learning_rate=0.1, anneal_epochs=10, reg=0.001): RunResult(model=Sequential(\n",
            "  (0): Conv2d(3, 6, kernel_size=(5, 5), stride=(1, 1), padding=(1, 1))\n",
            "  (1): Tanh()\n",
            "  (2): AvgPool2d(kernel_size=2, stride=2, padding=0)\n",
            "  (3): Conv2d(6, 16, kernel_size=(5, 5), stride=(1, 1), padding=(1, 1))\n",
            "  (4): Tanh()\n",
            "  (5): AvgPool2d(kernel_size=2, stride=2, padding=0)\n",
            "  (6): Conv2d(16, 120, kernel_size=(5, 5), stride=(1, 1), padding=(1, 1))\n",
            "  (7): Tanh()\n",
            "  (8): Flattener()\n",
            "  (9): Linear(in_features=1920, out_features=120, bias=True)\n",
            "  (10): Tanh()\n",
            "  (11): Linear(in_features=120, out_features=84, bias=True)\n",
            "  (12): Tanh()\n",
            "  (13): Linear(in_features=84, out_features=10, bias=True)\n",
            "), train_history=[0.9251783093881173, 0.9238644507388322, 0.9266286728321332, 0.9254171927788963, 0.924512848513804, 0.9249906152953622, 0.9238815138381735, 0.9251100569907518, 0.9253660034808723, 0.9256731392690168], val_history=[0.9099720155620776, 0.9118148931813528, 0.9133847518940686, 0.8917480035492458, 0.9052624394239301, 0.9142038086137465, 0.8961845607808341, 0.9045116374308921, 0.9062180055968876, 0.9064910245034469], final_val_accuracy=0.9064910245034469)}\n"
          ]
        }
      ],
      "source": [
        "print(run_record)"
      ]
    },
    {
      "cell_type": "code",
      "execution_count": 18,
      "metadata": {
        "id": "Y6xExdw8JB1l"
      },
      "outputs": [
        {
          "name": "stdout",
          "output_type": "stream",
          "text": [
            "Best validation accuracy: 0.92, best hyperparams: Hyperparams(learning_rate=0.01, anneal_epochs=1, reg=1e-05)\n"
          ]
        }
      ],
      "source": [
        "best_val_accuracy = None\n",
        "best_hyperparams = None\n",
        "best_run = None\n",
        "\n",
        "for hyperparams, run_result in run_record.items():\n",
        "    if best_val_accuracy is None or best_val_accuracy < run_result.final_val_accuracy:\n",
        "        best_val_accuracy = run_result.final_val_accuracy\n",
        "        best_hyperparams = hyperparams\n",
        "        best_run = run_result\n",
        "        \n",
        "print(\"Best validation accuracy: %4.2f, best hyperparams: %s\" % (best_val_accuracy, best_hyperparams))\n",
        "        "
      ]
    },
    {
      "cell_type": "markdown",
      "metadata": {
        "id": "LOmsR0uVgtgf"
      },
      "source": [
        "# Свободное упражнение - догоним и перегоним LeNet!\n",
        "\n",
        "Попробуйте найти архитектуру и настройки тренировки, чтобы выступить лучше наших бейзлайнов.\n",
        "\n",
        "Что можно и нужно попробовать:\n",
        "- BatchNormalization (для convolution layers он в PyTorch называется [batchnorm2d](https://pytorch.org/docs/stable/nn.html#batchnorm2d))\n",
        "- Изменить количество слоев и их толщину\n",
        "- Изменять количество эпох тренировки\n",
        "- Попробовать и другие агментации"
      ]
    },
    {
      "cell_type": "code",
      "execution_count": 20,
      "metadata": {
        "id": "tSVhD747icoc"
      },
      "outputs": [
        {
          "name": "stdout",
          "output_type": "stream",
          "text": [
            "Sequential(\n",
            "  (0): Conv2d(3, 6, kernel_size=(5, 5), stride=(1, 1), padding=(1, 1))\n",
            "  (1): Tanh()\n",
            "  (2): AvgPool2d(kernel_size=2, stride=2, padding=0)\n",
            "  (3): Conv2d(6, 16, kernel_size=(5, 5), stride=(1, 1), padding=(1, 1))\n",
            "  (4): Tanh()\n",
            "  (5): AvgPool2d(kernel_size=2, stride=2, padding=0)\n",
            "  (6): Conv2d(16, 120, kernel_size=(5, 5), stride=(1, 1), padding=(1, 1))\n",
            "  (7): Tanh()\n",
            "  (8): Flattener()\n",
            "  (9): Linear(in_features=1920, out_features=120, bias=True)\n",
            "  (10): Tanh()\n",
            "  (11): Linear(in_features=120, out_features=84, bias=True)\n",
            "  (12): Tanh()\n",
            "  (13): Linear(in_features=84, out_features=10, bias=True)\n",
            ")\n"
          ]
        }
      ],
      "source": [
        "best_model = run_result.model"
      ]
    },
    {
      "cell_type": "markdown",
      "metadata": {
        "id": "ubeKgBcnhx7N"
      },
      "source": [
        "# Финальный аккорд - проверим лучшую модель на test set\n",
        "\n",
        "В качестве разнообразия - напишите код для прогона модели на test set вы.\n",
        "\n",
        "В результате вы должны натренировать модель, которая покажет более **90%** точности на test set.  \n",
        "Как водится, лучший результат в группе получит дополнительные баллы!"
      ]
    },
    {
      "cell_type": "code",
      "execution_count": 22,
      "metadata": {
        "id": "EIqM1kdeh-hd"
      },
      "outputs": [
        {
          "name": "stdout",
          "output_type": "stream",
          "text": [
            "Final test accuracy -  0.9024661954517517\n"
          ]
        }
      ],
      "source": [
        "# TODO Write the code to compute accuracy on test set\n",
        "final_test_accuracy = 0.0\n",
        "\n",
        "test_loader = torch.utils.data.DataLoader(data_test, batch_size=batch_size)\n",
        "\n",
        "final_test_accuracy = compute_accuracy(best_model, test_loader)\n",
        "\n",
        "print(\"Final test accuracy - \", final_test_accuracy)"
      ]
    },
    {
      "cell_type": "code",
      "execution_count": null,
      "metadata": {
        "id": "BfH6qip6kVX_"
      },
      "outputs": [],
      "source": []
    }
  ],
  "metadata": {
    "accelerator": "GPU",
    "colab": {
      "collapsed_sections": [],
      "name": "PyTorch_CNN.ipynb",
      "provenance": []
    },
    "interpreter": {
      "hash": "38740d3277777e2cd7c6c2cc9d8addf5118fdf3f82b1b39231fd12aeac8aee8b"
    },
    "kernelspec": {
      "display_name": "Python 3.7.0 64-bit",
      "name": "python3"
    },
    "language_info": {
      "codemirror_mode": {
        "name": "ipython",
        "version": 3
      },
      "file_extension": ".py",
      "mimetype": "text/x-python",
      "name": "python",
      "nbconvert_exporter": "python",
      "pygments_lexer": "ipython3",
      "version": "3.7.0"
    }
  },
  "nbformat": 4,
  "nbformat_minor": 2
}
