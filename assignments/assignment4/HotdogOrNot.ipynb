{
  "cells": [
    {
      "cell_type": "markdown",
      "metadata": {
        "id": "0XxQ05_0yDct"
      },
      "source": [
        "# Задание 4 - Перенос обучения (transfer learning) и тонкая настройка (fine-tuning)\n",
        "\n",
        "Одной из важнейшних техник в тренировке сетей - использовать заранее натренированные веса на более общей задаче в качестве начальной точки, а потом \"дотренировать\" их на конкретной.\n",
        "\n",
        "Такой подход и убыстряет обучение, и позволяет тренировать эффективные модели на маленьких наборах данных.\n",
        "\n",
        "В этом упражнении мы натренируем классификатор, который отличает хотдоги от не хотдогов!  \n",
        "(более подробно - https://www.youtube.com/watch?v=ACmydtFDTGs)\n",
        "\n",
        "Это задание требует доступа к GPU, поэтому его можно выполнять либо на компьютере с GPU от NVidia, либо в [Google Colab](https://colab.research.google.com/)."
      ]
    },
    {
      "cell_type": "code",
      "execution_count": null,
      "metadata": {
        "id": "FcXBeP1O7cnY"
      },
      "outputs": [],
      "source": [
        "import json\n",
        "import os\n",
        "import csv\n",
        "import urllib\n",
        "from io import BytesIO\n",
        "from skimage import io\n",
        "\n",
        "\n",
        "from socket import timeout\n",
        "\n",
        "# from google.colab import files\n",
        "# !pip install -q torch torchvision\n",
        "# !pip install -q Pillow\n",
        "\n",
        "from PIL import Image"
      ]
    },
    {
      "cell_type": "markdown",
      "metadata": {
        "id": "nZJlS7YqyDcz"
      },
      "source": [
        "Сначала давайте скачаем данные с картинками. Это сделает код в следующей ячейке. Данные будут разделены на две части. На обучающей выборке, которая будет храниться в папке **train_kaggle**, мы будем строить наши модели, а на тестовой выборке **test_kaggle** будем предсказывать класс, к которому относится фотография (хотдог или нет).\n",
        "\n",
        "### Если вы в Google Colab!\n",
        "\n",
        "В нем можно запускать ноутбуки с доступом к GPU. Они не очень быстрые, зато бесплатные!\n",
        "Каждый ноутбук получает свой собственный environment c доступным диском итд.\n",
        "\n",
        "Через 90 минут отсуствия активности этот environment пропадает со всеми данными.\n",
        "Поэтому нам придется скачивать данные каждый раз."
      ]
    },
    {
      "cell_type": "code",
      "execution_count": null,
      "metadata": {
        "colab": {
          "base_uri": "https://localhost:8080/"
        },
        "id": "gLYRwCXr2a5l",
        "outputId": "557c5494-3f64-400d-e134-3090c71d45c3"
      },
      "outputs": [],
      "source": [
        "# GOOGLE COLAB\n",
        "\n",
        "# # Download train data\n",
        "# !wget \"https://storage.googleapis.com/dlcourse_ai/train.zip\"\n",
        "# !unzip -q \"train.zip\"\n",
        "\n",
        "# train_folder = \"train_kaggle/\"\n",
        "# # Count number of files in the train folder, should be 4603\n",
        "# print('Number of files in the train folder', len(os.listdir(train_folder)))\n",
        "\n",
        "# # Download test data\n",
        "# !wget \"https://storage.googleapis.com/dlcourse_ai/test.zip\"\n",
        "# !unzip -q \"test.zip\"\n",
        "\n",
        "# test_folder = \"test_kaggle/\"\n",
        "# # Count number of files in the test folder, should be 1150\n",
        "# print('Number of files in the test folder', len(os.listdir(test_folder)))"
      ]
    },
    {
      "cell_type": "code",
      "execution_count": null,
      "metadata": {
        "colab": {
          "base_uri": "https://localhost:8080/"
        },
        "id": "ourBj07Arm3R",
        "outputId": "1d0fbc24-8642-491d-9eb3-01360d32bbc0"
      },
      "outputs": [],
      "source": [
        "# FOR WINDOWS\n",
        "\n",
        "# import zipfile\n",
        "# # Download train data\n",
        "# url = \"https://storage.googleapis.com/dlcourse_ai/train.zip\"\n",
        "# filename = \"train.zip\"\n",
        "# urllib.request.urlretrieve(url, filename)\n",
        "# with zipfile.ZipFile('.\\\\train.zip', 'r') as zip_ref:\n",
        "#     zip_ref.extractall('.\\\\')\n",
        "\n",
        "train_folder = \"train_kaggle/\"\n",
        "# Count number of files in the train folder, should be 4603\n",
        "print('Number of files in the train folder', len(os.listdir(train_folder)))\n",
        "\n",
        "# # Download test data\n",
        "# url = \"https://storage.googleapis.com/dlcourse_ai/test.zip\"\n",
        "# filename = \"test.zip\"\n",
        "# urllib.request.urlretrieve(url, filename)\n",
        "# with zipfile.ZipFile('.\\\\test.zip', 'r') as zip_ref:\n",
        "#     zip_ref.extractall('.\\\\')\n",
        "\n",
        "test_folder = \"test_kaggle/\"\n",
        "# Count number of files in the test folder, should be 1150\n",
        "print('Number of files in the test folder', len(os.listdir(test_folder)))"
      ]
    },
    {
      "cell_type": "code",
      "execution_count": null,
      "metadata": {
        "colab": {
          "base_uri": "https://localhost:8080/"
        },
        "id": "NNU-OD9O9ltP",
        "outputId": "2d72c881-f9ed-48bd-8d2a-6f45dd75adec"
      },
      "outputs": [],
      "source": [
        "import torch\n",
        "from torchvision import models\n",
        "from torch.utils.data import Dataset, SubsetRandomSampler\n",
        "from torchvision import transforms\n",
        "\n",
        "import numpy as np\n",
        "import matplotlib.pyplot as plt\n",
        "%matplotlib inline\n",
        "\n",
        "device = torch.device(\"cuda:0\") # Let's make sure GPU is available!\n",
        "print(device)"
      ]
    },
    {
      "cell_type": "markdown",
      "metadata": {
        "id": "1eXPaxYHyDc1"
      },
      "source": [
        "# Имплементируем свой Dataset для загрузки данных\n",
        "\n",
        "В этом задании мы реализуем свой собственный класс Dataset для загрузки данных. Его цель - загрузить данные с диска и выдать по ним тензор с входом сети, меткой и идентификатором картинки (так будет проще подготовить сабмит для kaggle на тестовых данных).\n",
        "\n",
        "Вот ссылка, где хорошо объясняется как это делать на примере: https://pytorch.org/tutorials/beginner/data_loading_tutorial.html\n",
        "\n",
        "Ваш Dataset должен в качестве количества сэмплов выдать количество файлов в папке и уметь выдавать кортеж из сэмпла, метки по индексу и названия файла.\n",
        "Если название файла начинается со слов 'frankfurter', 'chili-dog' или 'hotdog' - метка положительная. Иначе отрицательная (ноль).\n",
        "\n",
        "И не забудьте поддержать возможность трансформации входа (аргумент `transforms`), она нам понадобится!"
      ]
    },
    {
      "cell_type": "code",
      "execution_count": null,
      "metadata": {
        "colab": {
          "base_uri": "https://localhost:8080/",
          "height": 209
        },
        "id": "bN2SPiJa9v5M",
        "outputId": "f08212bb-bb3d-4550-e502-434ed399b2f7"
      },
      "outputs": [],
      "source": [
        "class HotdogOrNotDataset(Dataset):\n",
        "    def __init__(self, folder, transform=None):\n",
        "        # TODO: Your code here!\n",
        "        self.transform = transform\n",
        "        self.dir = folder\n",
        "        \n",
        "    def __len__(self):\n",
        "        onlyfiles = next(os.walk(self.dir))[2] #dir is your directory path as string\n",
        "        return len(onlyfiles)\n",
        "    \n",
        "    def __getitem__(self, index):        \n",
        "        # TODO Implement getting item by index\n",
        "        # Hint: os.path.join is helpful!\n",
        "        onlyfiles = next(os.walk(self.dir))[2] #dir is your directory path as string\n",
        "        img_id = os.path.join(self.dir, onlyfiles[index])\n",
        "        img = io.imread(img_id)\n",
        "        if 'frankfurter' in img_id or 'chili-dog' in img_id or 'hotdog' in img_id:\n",
        "            y = 1\n",
        "        else:\n",
        "            y = 0\n",
        "\n",
        "        if self.transform:\n",
        "            # img = img.transpose((2, 0, 1))\n",
        "            # img = self.transform(torch.from_numpy(img)).numpy().transpose((1, 2, 0))\n",
        "            # img = img.numpy().transpose((1, 2, 0))\n",
        "            img = self.transform(Image.fromarray(img))\n",
        "\n",
        "        return img, y, img_id\n",
        "\n",
        "def visualize_samples(dataset, indices, title=None, count=10):\n",
        "    # visualize random 10 samples\n",
        "    plt.figure(figsize=(count*3,3))\n",
        "    display_indices = indices[:count]\n",
        "    if title:\n",
        "        plt.suptitle(\"%s %s/%s\" % (title, len(display_indices), len(indices)))        \n",
        "    for i, index in enumerate(display_indices):    \n",
        "        x, y, _ = dataset[index]\n",
        "        plt.subplot(1,count,i+1)\n",
        "        plt.title(\"Label: %s\" % y)\n",
        "        plt.imshow(x)\n",
        "        plt.grid(False)\n",
        "        plt.axis('off')   \n",
        "    \n",
        "orig_dataset = HotdogOrNotDataset(train_folder)\n",
        "indices = np.random.choice(np.arange(len(orig_dataset)), 10, replace=False)\n",
        "\n",
        "visualize_samples(orig_dataset, indices, \"Samples\")"
      ]
    },
    {
      "cell_type": "code",
      "execution_count": null,
      "metadata": {
        "colab": {
          "base_uri": "https://localhost:8080/",
          "height": 209
        },
        "id": "mQNsUvYm4_2V",
        "outputId": "24ecef83-d89b-46b2-acf3-bd1e98d1d3fd"
      },
      "outputs": [],
      "source": [
        "# Let's make sure transforms work!\n",
        "dataset = HotdogOrNotDataset(train_folder, transform=transforms.RandomVerticalFlip(0.9))\n",
        "\n",
        "visualize_samples(dataset, indices, \"Samples with flip - a lot should be flipped!\")"
      ]
    },
    {
      "cell_type": "markdown",
      "metadata": {
        "id": "YJz4xiwzyDc3"
      },
      "source": [
        "# Создаем Dataset для тренировки\n",
        "\n",
        "И разделяем его на train и validation.\n",
        "На train будем обучать модель, на validation проверять ее качество, а соревнование Kaggle In-Class проведем на фотографиях из папки test_kaggle."
      ]
    },
    {
      "cell_type": "code",
      "execution_count": null,
      "metadata": {
        "id": "YAvkoRx-9FsP"
      },
      "outputs": [],
      "source": [
        "# First, lets load the dataset\n",
        "train_dataset = HotdogOrNotDataset(train_folder, \n",
        "                       transform=transforms.Compose([\n",
        "                           transforms.Resize((224, 224)),\n",
        "                           transforms.ToTensor(),\n",
        "                           # Use mean and std for pretrained models\n",
        "                           # https://pytorch.org/docs/stable/torchvision/models.html\n",
        "                           transforms.Normalize(mean=[0.485, 0.456, 0.406],\n",
        "                                 std=[0.229, 0.224, 0.225])                         \n",
        "                       ])\n",
        "                      )\n",
        "test_dataset = HotdogOrNotDataset(test_folder, \n",
        "                       transform=transforms.Compose([\n",
        "                           transforms.Resize((224, 224)),\n",
        "                           transforms.ToTensor(),\n",
        "                           # Use mean and std for pretrained models\n",
        "                           # https://pytorch.org/docs/stable/torchvision/models.html\n",
        "                           transforms.Normalize(mean=[0.485, 0.456, 0.406],\n",
        "                                 std=[0.229, 0.224, 0.225])                         \n",
        "                       ])\n",
        "                      )"
      ]
    },
    {
      "cell_type": "code",
      "execution_count": null,
      "metadata": {
        "id": "YRnr8CPg7Hli"
      },
      "outputs": [],
      "source": [
        "batch_size = 64\n",
        "\n",
        "data_size = len(dataset)\n",
        "validation_fraction = .2\n",
        "\n",
        "\n",
        "val_split = int(np.floor((validation_fraction) * data_size))\n",
        "indices = list(range(data_size))\n",
        "np.random.seed(42)\n",
        "np.random.shuffle(indices)\n",
        "\n",
        "val_indices, train_indices = indices[:val_split], indices[val_split:]\n",
        "\n",
        "train_sampler = SubsetRandomSampler(train_indices)\n",
        "val_sampler = SubsetRandomSampler(val_indices)\n",
        "\n",
        "train_loader = torch.utils.data.DataLoader(train_dataset, batch_size=batch_size, \n",
        "                                           sampler=train_sampler)\n",
        "val_loader = torch.utils.data.DataLoader(train_dataset, batch_size=batch_size,\n",
        "                                         sampler=val_sampler)\n",
        "# Notice that we create test data loader in a different way. We don't have the labels.\n",
        "test_loader = torch.utils.data.DataLoader(test_dataset, batch_size=batch_size)"
      ]
    },
    {
      "cell_type": "markdown",
      "metadata": {
        "id": "U5mJfuXRyDc4"
      },
      "source": [
        "Наши обычные функции для тренировки"
      ]
    },
    {
      "cell_type": "code",
      "execution_count": null,
      "metadata": {
        "id": "2ek3KVQK7hJ6"
      },
      "outputs": [],
      "source": [
        "def train_model(model, train_loader, val_loader, loss, optimizer, num_epochs):    \n",
        "    loss_history = []\n",
        "    train_history = []\n",
        "    val_history = []\n",
        "    for epoch in range(num_epochs):\n",
        "        model.train() # Enter train mode\n",
        "        \n",
        "        loss_accum = 0\n",
        "        correct_samples = 0\n",
        "        total_samples = 0\n",
        "        for i_step, (x, y, _) in enumerate(train_loader):\n",
        "          \n",
        "            x_gpu = x.to(device)\n",
        "            y_gpu = y.to(device)\n",
        "            prediction = model(x_gpu)    \n",
        "            loss_value = loss(prediction, y_gpu)\n",
        "            optimizer.zero_grad()\n",
        "            loss_value.backward()\n",
        "            optimizer.step()\n",
        "            \n",
        "            _, indices = torch.max(prediction, 1)\n",
        "            correct_samples += torch.sum(indices == y_gpu)\n",
        "            total_samples += y.shape[0]\n",
        "            \n",
        "            loss_accum += loss_value\n",
        "\n",
        "        ave_loss = loss_accum / i_step\n",
        "        train_accuracy = float(correct_samples) / total_samples\n",
        "        val_accuracy = compute_accuracy(model, val_loader)\n",
        "        \n",
        "        loss_history.append(float(ave_loss))\n",
        "        train_history.append(train_accuracy)\n",
        "        val_history.append(val_accuracy)\n",
        "        \n",
        "        print(\"Average loss: %f, Train accuracy: %f, Val accuracy: %f\" % (ave_loss, train_accuracy, val_accuracy))\n",
        "        \n",
        "    return loss_history, train_history, val_history\n",
        "        \n",
        "def compute_accuracy(model, loader):\n",
        "    \"\"\"\n",
        "    Computes accuracy on the dataset wrapped in a loader\n",
        "    \n",
        "    Returns: accuracy as a float value between 0 and 1\n",
        "    \"\"\"\n",
        "    model.eval() # Evaluation mode\n",
        "    # TODO: Copy implementation from previous assignment\n",
        "    # Don't forget to move the data to device before running it through the model!\n",
        "    correct_samples = 0\n",
        "    total_samples = 0\n",
        "    for i_step, (x, y, _) in enumerate(loader):\n",
        "          \n",
        "        x_gpu = x.to(device)\n",
        "        y_gpu = y.to(device)\n",
        "        prediction = model(x_gpu)    \n",
        "        \n",
        "        _, indices = torch.max(prediction, 1)\n",
        "        correct_samples += torch.sum(indices == y_gpu)\n",
        "        total_samples += y.shape[0]\n",
        "\n",
        "        accuracy = float(correct_samples) / total_samples\n",
        "\n",
        "        return accuracy"
      ]
    },
    {
      "cell_type": "markdown",
      "metadata": {
        "id": "I9eA1BXSyDc5"
      },
      "source": [
        "# Использование заранее натренированной сети (pretrained network)\n",
        "\n",
        "Чаще всего в качестве заранее натренированной сети используется сеть, натренированная на данных ImageNet с 1M изображений и 1000 классами.\n",
        "\n",
        "PyTorch включает такие натренированные сети для различных архитектур (https://pytorch.org/docs/stable/torchvision/models.html)  \n",
        "Мы будем использовать ResNet18.\n",
        "\n",
        "Для начала посмотрим, что выдает уже натренированная сеть на наших картинках. То есть, посмотрим к какому из 1000 классов их отнесет сеть.\n",
        "\n",
        "Запустите модель на 10 случайных картинках из датасета и выведите их вместе с классами с наибольшей вероятностью.  \n",
        "В коде уже есть код, который формирует соответствие между индексами в выходном векторе и классами ImageNet."
      ]
    },
    {
      "cell_type": "code",
      "execution_count": null,
      "metadata": {
        "colab": {
          "base_uri": "https://localhost:8080/",
          "height": 282,
          "referenced_widgets": [
            "1895f7c09aae4ffdbf96b766f9a34610",
            "67478d93588a443593e78dab5124b5ec",
            "6a519bc702734968bbbd36ccf65cf120",
            "4ab69d507f714c86a59fcae2463c5a24",
            "c3efe6fac1d645fa87b6eee549bbe0ba",
            "ffaa97fc8b9247b98566c28e31b70f0e",
            "ae90a201e7b54c81bf6953cbbabbda38",
            "0d492fe5f5b14965bc470ddf5bb64fbc",
            "28715c9a64c442adb7015bed246087fb",
            "290319f7643746ad9eb32624308c8b4e",
            "32c9467292a040ce9ade6efbd0b31e0b"
          ]
        },
        "id": "CnvXSmtyLAgz",
        "outputId": "f5c834a0-0215-4d09-ff67-6e02ac8770fc"
      },
      "outputs": [],
      "source": [
        "import torchvision\n",
        "# Thanks to https://discuss.pytorch.org/t/imagenet-classes/4923/2\n",
        "def load_imagenet_classes():\n",
        "    classes_json = urllib.request.urlopen('https://s3.amazonaws.com/deep-learning-models/image-models/imagenet_class_index.json').read()\n",
        "    classes = json.loads(classes_json)\n",
        "    \n",
        "    # TODO: Process it to return dict of class index to name\n",
        "    return { int(k): v[-1] for k, v in classes.items()}\n",
        "    \n",
        "model = models.resnet18(pretrained=True).eval()\n",
        "\n",
        "# TODO: Run this model on 10 random images of your dataset and visualize what it predicts\n",
        "resnet_indices = np.random.choice(np.arange(len(orig_dataset)), 10, replace=False)\n",
        "print(resnet_indices)\n",
        "\n",
        "resnet_dataset = torch.utils.data.Subset(train_dataset, resnet_indices)\n",
        "\n",
        "resnet_loader = torch.utils.data.DataLoader(resnet_dataset, batch_size=len(resnet_indices))\n",
        "print(len(resnet_loader.dataset))\n",
        "\n",
        "resnet_classes = load_imagenet_classes()\n",
        "\n",
        "for (x, y, name) in resnet_loader:\n",
        "    prediction = model(x)\n",
        "    resnet_class = prediction.argmax(dim=1)\n",
        "    print(resnet_class)\n",
        "    plt.figure(figsize=(50, 10))\n",
        "    display_indices = range(len(resnet_indices))  \n",
        "\n",
        "    # out = torchvision.utils.make_grid(x, len(resnet_indices))\n",
        "    # out = out.detach().numpy().transpose((1, 2, 0))\n",
        "    # mean = np.array([0.485, 0.456, 0.406])\n",
        "    # std = np.array([0.229, 0.224, 0.225])\n",
        "    # out = std * out + mean\n",
        "    # out = np.clip(out, 0, 1)\n",
        "    # plt.imshow(out)\n",
        "    # plt.axis('off')\n",
        "    # plt.title([resnet_classes.get(value) for value in resnet_class.tolist()])\n",
        "\n",
        "    for i, img in enumerate(x):\n",
        "        img = img.detach().numpy().transpose((1, 2, 0))\n",
        "        mean = np.array([0.485, 0.456, 0.406])\n",
        "        std = np.array([0.229, 0.224, 0.225])\n",
        "        img = std * img + mean\n",
        "        img = np.clip(img, 0, 1)\n",
        "        plt.subplot(1, len(resnet_indices), i+1)\n",
        "        plt.title(f\"Label predicted: {resnet_classes[resnet_class[i].item()]};\\nLabel true: {y[i].item()}\")\n",
        "        plt.imshow(img)\n",
        "        plt.grid(False)\n",
        "        plt.axis('off')"
      ]
    },
    {
      "cell_type": "markdown",
      "metadata": {
        "id": "6a-3a1ZFGEw_"
      },
      "source": [
        "# Перенос обучения (transfer learning) - тренировать только последний слой\n",
        "\n",
        "Существует несколько вариантов переноса обучения, мы попробуем основные.  \n",
        "Первый вариант - заменить последний слой на новый и тренировать только его, заморозив остальные."
      ]
    },
    {
      "cell_type": "code",
      "execution_count": null,
      "metadata": {
        "colab": {
          "base_uri": "https://localhost:8080/"
        },
        "id": "jCWMUWmr7t5g",
        "outputId": "72cc404c-2757-4f2f-9d9e-d280223cb9d3"
      },
      "outputs": [],
      "source": [
        "import torch.nn as nn\n",
        "import torch.optim as optim\n",
        "\n",
        "model = models.resnet18(pretrained=True)\n",
        "for param in model.parameters():\n",
        "    param.requires_grad = False\n",
        "# TODO: Freeze all the layers of this model and add a new output layer\n",
        "# https://pytorch.org/tutorials/beginner/transfer_learning_tutorial.html\n",
        "num_ftrs = model.fc.in_features\n",
        "model.fc = nn.Linear(num_ftrs, 2)\n",
        "model = model.to(device)\n",
        "\n",
        "parameters = model.parameters()   # Fill the right thing here!\n",
        "\n",
        "loss = nn.CrossEntropyLoss()\n",
        "optimizer = optim.SGD(parameters, lr=0.001, momentum=0.9)\n",
        "loss_history, train_history, val_history = train_model(model, train_loader, val_loader, loss, optimizer, 2)"
      ]
    },
    {
      "cell_type": "code",
      "execution_count": null,
      "metadata": {
        "id": "LKYhu0xnyDc6"
      },
      "outputs": [],
      "source": [
        "# del model\n",
        "# torch.cuda.empty_cache()\n"
      ]
    },
    {
      "cell_type": "code",
      "execution_count": null,
      "metadata": {
        "colab": {
          "base_uri": "https://localhost:8080/"
        },
        "id": "YvtP-jg9yDc6",
        "outputId": "ae528fba-f72f-4f12-9e1d-ef1107c8e4d1"
      },
      "outputs": [],
      "source": [
        "print('Allocated:', round(torch.cuda.memory_allocated(0)/1024**3,1), 'GB')\n",
        "print('Cached:   ', round(torch.cuda.memory_reserved(0)/1024**3,1), 'GB')"
      ]
    },
    {
      "cell_type": "markdown",
      "metadata": {
        "id": "8dDH4WfaB2Il"
      },
      "source": [
        "# Перенос обучения (transfer learning) - тренировать всю модель\n",
        "\n",
        "Второй вариант - точно так же заменить последгний слой на новый и обучать всю модель целиком."
      ]
    },
    {
      "cell_type": "code",
      "execution_count": null,
      "metadata": {
        "colab": {
          "base_uri": "https://localhost:8080/"
        },
        "id": "5ss0jilyvuOh",
        "outputId": "dee20125-e5bb-458b-c6fe-b5d69274b233"
      },
      "outputs": [],
      "source": [
        "import torch.nn as nn\n",
        "import torch.optim as optim\n",
        "\n",
        "model = models.resnet18(pretrained=True)\n",
        "# TODO: Freeze all the layers of this model and add a new output layer\n",
        "# https://pytorch.org/tutorials/beginner/transfer_learning_tutorial.html\n",
        "num_ftrs = model.fc.in_features\n",
        "model.fc = nn.Linear(num_ftrs, 2)\n",
        "model = model.to(device)\n",
        "\n",
        "parameters = model.parameters()   # Fill the right thing here!\n",
        "\n",
        "loss = nn.CrossEntropyLoss()\n",
        "optimizer = optim.SGD( parameters, lr=0.001, momentum=0.9)\n",
        "\n",
        "loss_history, train_history, val_history = train_model(model, train_loader, val_loader, loss, optimizer, 5)"
      ]
    },
    {
      "cell_type": "markdown",
      "metadata": {
        "id": "meQt_vDCs9cc"
      },
      "source": [
        "# Перенос обучения (transfer learning) - разные скорости обучения для разных слоев\n",
        "\n",
        "И наконец последний вариант, который мы рассмотрим - использовать разные скорости обучения для новых и старых слоев"
      ]
    },
    {
      "cell_type": "code",
      "execution_count": null,
      "metadata": {
        "colab": {
          "base_uri": "https://localhost:8080/"
        },
        "id": "evro9ksXGs9u",
        "outputId": "5624f917-6ca9-40a9-b451-3e0f94f71598"
      },
      "outputs": [],
      "source": [
        "import torch.nn as nn\n",
        "import torch.optim as optim\n",
        "\n",
        "model = models.resnet18(pretrained=True)\n",
        "# TODO: Add a new output layer\n",
        "# Train new layer with learning speed 0.001 and old layers with 0.0001\n",
        "# https://pytorch.org/tutorials/beginner/transfer_learning_tutorial.html\n",
        "num_ftrs = model.fc.in_features\n",
        "model.fc = nn.Linear(num_ftrs, 2)\n",
        "model = model.to(device)\n",
        "\n",
        "parameters = model.parameters()   # Fill the right thing here!\n",
        "loss = nn.CrossEntropyLoss()\n",
        "\n",
        "optimizer = optim.SGD([{\"params\": model.fc.parameters(), \"lr\": 0.001},], lr=0.0001, momentum=0.9) # Hint - look into what PyTorch optimizers let you configure!\n",
        "loss_history, train_history, val_history = train_model(model, train_loader, val_loader, loss, optimizer, 5)"
      ]
    },
    {
      "cell_type": "code",
      "execution_count": null,
      "metadata": {
        "colab": {
          "base_uri": "https://localhost:8080/"
        },
        "id": "J4CChD5VyDc7",
        "outputId": "a3b88ca9-6ebb-4d58-b2d8-87965556bf56"
      },
      "outputs": [],
      "source": [
        "print('Allocated:', round(torch.cuda.memory_allocated(0)/1024**3,1), 'GB')\n",
        "print('Cached:   ', round(torch.cuda.memory_reserved(0)/1024**3,1), 'GB')"
      ]
    },
    {
      "cell_type": "markdown",
      "metadata": {
        "id": "HrcjLLbiyDc8"
      },
      "source": [
        "# Визуализируем метрики и ошибки модели\n",
        "\n",
        "Попробуем посмотреть, где модель ошибается - визуализируем ложные срабатывания (false positives) и ложноотрицательные срабатывания (false negatives).\n",
        "\n",
        "Для этого мы прогоним модель через все примеры и сравним ее с истинными метками (ground truth)."
      ]
    },
    {
      "cell_type": "code",
      "execution_count": null,
      "metadata": {
        "id": "ieEzZUglJAUB"
      },
      "outputs": [],
      "source": [
        "from torch.utils.data.sampler import Sampler\n",
        "\n",
        "class SubsetSampler(Sampler):\n",
        "    r\"\"\"Samples elements with given indices sequentially\n",
        "\n",
        "    Arguments:\n",
        "        data_source (Dataset): dataset to sample from\n",
        "        indices (ndarray): indices of the samples to take\n",
        "    \"\"\"\n",
        "\n",
        "    def __init__(self, indices):\n",
        "        self.indices = indices\n",
        "\n",
        "    def __iter__(self):\n",
        "        return (self.indices[i] for i in range(len(self.indices)))\n",
        "\n",
        "    def __len__(self):\n",
        "        return len(self.indices)\n",
        "    \n",
        "    \n",
        "def evaluate_model(model, dataset, indices):\n",
        "    \"\"\"\n",
        "    Computes predictions and ground truth labels for the indices of the dataset\n",
        "    \n",
        "    Returns: \n",
        "    predictions: np array of booleans of model predictions\n",
        "    grount_truth: np array of boolean of actual labels of the dataset\n",
        "    \"\"\"\n",
        "    model.eval() # Evaluation mode\n",
        "    \n",
        "    # TODO: Evaluate model on the list of indices and capture predictions\n",
        "    # and ground truth labels\n",
        "    # Hint: SubsetSampler above could be useful!\n",
        "    predictions = []\n",
        "    ground_truth = []\n",
        "    \n",
        "    # sampler = SubsetSampler(indices)\n",
        "    # print(len(sampler))\n",
        "    for idx in indices:\n",
        "        x, y, _ = dataset[idx]\n",
        "        # print(x.shape)\n",
        "        x = x.view(1, 3, 224, 224)\n",
        "        # print(x.shape)\n",
        "        x_gpu = x.to(device)\n",
        "        prediction = model(x_gpu)\n",
        "        resnet_class = prediction.argmax(dim=1)\n",
        "        # print(resnet_class.item())\n",
        "\n",
        "        predictions.append(resnet_class.item())\n",
        "        ground_truth.append(y)\n",
        "    \n",
        "    \n",
        "    return predictions, ground_truth\n",
        "\n",
        "predictions, gt = evaluate_model(model, train_dataset, val_indices)"
      ]
    },
    {
      "cell_type": "markdown",
      "metadata": {
        "id": "r0bcioK6JBDK"
      },
      "source": [
        "И теперь можно визуализировать false positives и false negatives."
      ]
    },
    {
      "cell_type": "code",
      "execution_count": null,
      "metadata": {
        "colab": {
          "base_uri": "https://localhost:8080/",
          "height": 400
        },
        "id": "WMmaPfdeKk9H",
        "outputId": "bc58e73f-9556-4d60-a96d-73312092c5ec"
      },
      "outputs": [],
      "source": [
        "# TODO: Compute indices of the false positives on the validation set.\n",
        "# Note those have to be indices of the original dataset\n",
        "false_positive_indices = []\n",
        "for idx, i in enumerate(predictions):\n",
        "    if i == 1 and i != gt[idx]:\n",
        "        false_positive_indices.append(indices[idx])\n",
        "\n",
        "visualize_samples(orig_dataset, false_positive_indices, \"False positives\")\n",
        "\n",
        "# TODO: Compute indices of the false negatives on the validation set.\n",
        "# Note those have to be indices of the original dataset\n",
        "false_negatives_indices = []\n",
        "for idx, i in enumerate(predictions):\n",
        "    if i == 0 and i != gt[idx]:\n",
        "        false_negatives_indices.append(indices[idx])\n",
        "\n",
        "visualize_samples(orig_dataset, false_negatives_indices, \"False negatives\")\n"
      ]
    },
    {
      "cell_type": "code",
      "execution_count": null,
      "metadata": {
        "colab": {
          "base_uri": "https://localhost:8080/"
        },
        "id": "JoDeVjN4HZSV",
        "outputId": "805dc7af-5588-4868-dc27-f03b1af62b1a"
      },
      "outputs": [],
      "source": [
        "import sklearn.metrics as metrics\n",
        "def binary_classification_metrics(prediction, ground_truth):\n",
        "    # TODO: Implement this function!\n",
        "    # We did this already it in the assignment1\n",
        "    precision = metrics.precision_score(ground_truth, prediction)\n",
        "    recall = metrics.recall_score(ground_truth, prediction)\n",
        "    f1 = metrics.f1_score(ground_truth, prediction)\n",
        "    \n",
        "    return precision, recall, f1\n",
        "\n",
        "# precision, recall, f1 = binary_classification_metrics(predictions, gt)\n",
        "# print(\"F1: %4.3f, P: %4.3f, R: %4.3f\" % (f1, precision, recall))"
      ]
    },
    {
      "cell_type": "markdown",
      "metadata": {
        "id": "u_O9qiYySvuj"
      },
      "source": [
        "# Что будет в конце вы уже поняли\n",
        "\n",
        "Натренируйте лучшую модель на основе `resnet18`, меняя только процесс тренировки.\n",
        "Выбирайте лучшую модель по F1 score.\n",
        "\n",
        "Как всегда, не забываем:\n",
        "- побольше агментаций!\n",
        "- перебор гиперпараметров\n",
        "- различные оптимизаторы\n",
        "- какие слои тюнить\n",
        "- learning rate annealing\n",
        "- на какой эпохе останавливаться\n",
        "\n",
        "Наша цель - довести F1 score на validation set до значения, большего **0.93**."
      ]
    },
    {
      "cell_type": "code",
      "execution_count": null,
      "metadata": {},
      "outputs": [],
      "source": [
        "# import os\n",
        "# import torch\n",
        "# from torch import nn\n",
        "# import torch.nn.functional as F\n",
        "# from torchvision import transforms\n",
        "# from torchvision.datasets import MNIST\n",
        "# from torch.utils.data import DataLoader, random_split\n",
        "# import pytorch_lightning as pl\n",
        "# # from tensorboard.compat import notf"
      ]
    },
    {
      "cell_type": "code",
      "execution_count": null,
      "metadata": {},
      "outputs": [],
      "source": [
        "# # Define LightningModule\n",
        "\n",
        "# class ResNet_18(pl.LightningModule):\n",
        "#     r\"\"\"Our model\n",
        "    \n",
        "#     \"\"\"\n",
        "\n",
        "#     def __init__(self):\n",
        "#         super().__init__()\n",
        "\n",
        "#         # Our model based on ResNet 18\n",
        "#         self.model = models.resnet18(pretrained=True)\n",
        "#         num_ftrs = self.model.fc.in_features\n",
        "#         self.model.fc = nn.Linear(num_ftrs, 2)\n",
        "\n",
        "#     def forward(self, x):\n",
        "#         # in lightning, forward defines the prediction/inference actions\n",
        "#         x = self.model(x)\n",
        "        \n",
        "#         return x\n",
        "\n",
        "#     def cross_entropy_loss(self, logits, labels):\n",
        "#         return F.nll_loss(logits, labels)\n",
        "\n",
        "#     def training_step(self, train_batch, batch_idx):\n",
        "#         imgs, labels, _ = train_batch\n",
        "#         logits = self.forward(imgs)\n",
        "#         loss = self.cross_entropy_loss(logits, labels)\n",
        "#         predictions = logits.argmax(dim=1)\n",
        "#         precision, recall, f1 = binary_classification_metrics(predictions.detach().cpu().numpy(),\n",
        "#                                                               labels.detach().cpu().numpy())\n",
        "#         self.log('performance', {'f1':f1, 'recall':recall, 'precision':precision})\n",
        "#         return loss\n",
        "\n",
        "#     def validation_step(self, val_batch, batch_idx):\n",
        "#         imgs, labels, _ = val_batch\n",
        "#         logits = self.forward(imgs)\n",
        "#         loss = self.cross_entropy_loss(logits, labels)\n",
        "#         predictions = logits.argmax(dim=1)\n",
        "#         precision, recall, f1 = binary_classification_metrics(predictions.detach().cpu().numpy(),\n",
        "#                                                               labels.detach().cpu().numpy())\n",
        "#         self.log('performance', {'f1':f1, 'recall':recall, 'precision':precision})\n",
        "\n",
        "#     def configure_optimizers(self):\n",
        "#         optimizer = torch.optim.Adam(self.parameters(), lr=1e-3)\n",
        "#         return optimizer\n",
        "        "
      ]
    },
    {
      "cell_type": "code",
      "execution_count": null,
      "metadata": {},
      "outputs": [],
      "source": [
        "# # Data\n",
        "\n",
        "# class HotDogModule(pl.LightningDataModule):\n",
        "\n",
        "#     def __init__(self, train_dataset, test_dataset, batch_size: int = 64):\n",
        "#         super().__init__()\n",
        "#         self.train_data = train_dataset\n",
        "#         self.test_data = test_dataset\n",
        "#         self.batch_size = batch_size\n",
        "        \n",
        "#     def setup(self, stage):     \n",
        "#         # prepare transforms standard to MNIST\n",
        "#         split = int(0.8 * len(self.train_data))\n",
        "#         self.train, self.val = random_split(self.train_data, [split, len(self.train_data) - split])\n",
        "\n",
        "#     def train_dataloader(self):\n",
        "#         return DataLoader(self.train, shuffle = True, batch_size=self.batch_size)\n",
        "\n",
        "#     def val_dataloader(self):\n",
        "#         return DataLoader(self.val, batch_size=self.batch_size)\n",
        "\n",
        "#     def test_dataloader(self):\n",
        "#         return DataLoader(self.test_data, batch_size=self.batch_size)"
      ]
    },
    {
      "cell_type": "code",
      "execution_count": null,
      "metadata": {},
      "outputs": [],
      "source": [
        "# data_module = HotDogModule(train_dataset, test_dataset)\n",
        "\n",
        "# # train\n",
        "# model = ResNet_18()\n",
        "# trainer = pl.Trainer(gpus=1, max_epochs=3)\n",
        "\n",
        "# trainer.fit(model, data_module)"
      ]
    },
    {
      "cell_type": "code",
      "execution_count": null,
      "metadata": {
        "id": "i6mhfdQ9K-N3"
      },
      "outputs": [],
      "source": [
        "# TODO: Train your best model!\n",
        "best_model = None"
      ]
    },
    {
      "cell_type": "code",
      "execution_count": null,
      "metadata": {
        "id": "Y6xExdw8JB1l"
      },
      "outputs": [],
      "source": [
        "# Let's check how it performs on validation set!\n",
        "predictions, ground_truth = evaluate_model(best_model, dataset, val_indices)\n",
        "precision, recall, f1 = binary_classification_metrics(predictions, ground_truth)\n",
        "print(\"F1: %4.3f, P: %4.3f, R: %4.3f\" % (precision, recall, f1))\n",
        "\n",
        "# TODO: Visualize training curve for the best model"
      ]
    },
    {
      "cell_type": "markdown",
      "metadata": {
        "id": "3VtIz40QyDc9"
      },
      "source": [
        "## Визуализируйте ошибки лучшей модели"
      ]
    },
    {
      "cell_type": "code",
      "execution_count": null,
      "metadata": {
        "id": "BFUeNOm1VACr"
      },
      "outputs": [],
      "source": [
        "# TODO Visualize false positives and false negatives of the best model on the validation set"
      ]
    },
    {
      "cell_type": "markdown",
      "metadata": {
        "id": "gUqU8zZbyDc-"
      },
      "source": [
        "# Необязательное задание с большой звездочкой\n",
        "\n",
        "Поучавствуйте в Kaggle In-Class Hot Dog Recognition Challenge!  \n",
        "Это соревнование сделано специально для курса и в нем учавствуют только те, кто проходит курс.\n",
        "\n",
        "В нем участники соревнуются в качестве натренированных моделей, загружая на сайт предсказания своих моделей на тестовой выборке. Разметка тестовой выборке участникам недоступна.\n",
        "Более подробно о правилах соревнования ниже.\n",
        "\n",
        "Те, кто проходят курс лично, за высокое место в соревновании получат дополнительные баллы.\n",
        "\n",
        "Здесь уже можно использовать и другие базовые архитектуры кроме `resnet18`, и ансамбли, и другие трюки тренировки моделей.\n",
        "\n",
        "Вот ссылка на соревнование:\n",
        "https://www.kaggle.com/c/hotdogornot"
      ]
    },
    {
      "cell_type": "code",
      "execution_count": null,
      "metadata": {
        "id": "GsUs5-_AyDc-"
      },
      "outputs": [],
      "source": [
        "image_id = []\n",
        "predictions = []\n",
        "model.eval()\n",
        "for x,_,id_img in test_loader:\n",
        "    # TODO : Напишите код для предсказания меток (1 = есть хотдог, 0 = хотдога нет)\n",
        "    # Код должен возвратить список из id картинки и метку predictions\n",
        "    # image id - это название файла картинки, например '10000.jpg'\n",
        "    pass"
      ]
    },
    {
      "cell_type": "code",
      "execution_count": null,
      "metadata": {
        "id": "ykhCS2OEyDc-"
      },
      "outputs": [],
      "source": [
        "# Так можно создать csv файл, чтобы затем загрузить его на kaggle\n",
        "# Ожидаемый формат csv-файла:\n",
        "# image_id,label\n",
        "# 10000.jpg,1\n",
        "# 10001.jpg,1\n",
        "# 10002.jpg,0\n",
        "# 10003.jpg,1\n",
        "# 10004.jpg,0\n",
        "\n",
        "with open('subm.csv', 'w') as submissionFile:\n",
        "    writer = csv.writer(submissionFile)\n",
        "    writer.writerow(['image_id', 'label'])\n",
        "    writer.writerows(zip(image_id,predictions))"
      ]
    },
    {
      "cell_type": "code",
      "execution_count": null,
      "metadata": {
        "id": "g0zKZyuCyDc-"
      },
      "outputs": [],
      "source": [
        "# А так можно скачать файл с Google Colab\n",
        "files.download('subm.csv') "
      ]
    },
    {
      "cell_type": "markdown",
      "metadata": {
        "id": "-whEDDNVyDc-"
      },
      "source": [
        "### Небольшое введение в Kaggle для тех, кто не слышал об этой платформе раньше"
      ]
    },
    {
      "cell_type": "markdown",
      "metadata": {
        "id": "Pa_t-eFqyDc-"
      },
      "source": [
        "В основе своей Kaggle - это платформа для проведения соревнований по машинному обучению. Появилась она в 2010 и, пожалуй, стала самой популярной и известной из всех существующих площадок по машинному обучению. Надо сказать, что Kaggle - это не только соревнования, но и сообщество людей, увлеченных машинным обучением. А судя по Википедии, в 2017 году отметка зарегистрированных пользователей перевалила за миллион. Есть там и обучающие материалы, возможность задавать вопросы, делиться кодом и идеями - просто мечта. \n",
        "\n",
        "### Как проходят соревнования? \n",
        "Обычно участники скачивают данные для обучения моделей (train data), чтобы затем делать предсказания на тестовых данных (test data). Обучающая выборка содержит как сами данные, так и правильные метки (значения зависимой переменной), чтобы можно было обучить модель. Но тестовые данные ответа не содержат - и нашей целью является предсказание меток по имеющимся данным. Файл с ответами для каждого наблюдения из тестовой выборки загружается на Kaggle и оценивается в соответствии с выбранной метрикой соревнования, а результат является публичным и показывается в общей таблице (ее называют еще лидербордом - leaderboard) - чтобы появилось желание посоревноваться и создать еще более сильную модель. В \"настоящих\" соревнованиях, которые проходят на Kaggle, есть и денежное вознаграждение для тех участников, кто занимает первые места на лидерборде. Например, в [этом](https://www.kaggle.com/c/zillow-prize-1#description) соревновании, человек, занявший первое место, получил около 1 000 000 долларов. \n",
        "\n",
        "Тестовые данные делятся случайным образом в некоторой пропорции. И пока соревнование идет, на лидерборде показываются очки и рейтинг участников только по одной части (Public Leaderboard). А вот когда соревнование заканчивается, то рейтинг участников составляется по второй части тестовых данных (Private Leaderboard). И часто можно видеть, как люди занимавшие первые места на публичной части тестовых данных, оказываются далеко не первыми на закрытой части тестовых данных. Зачем это сделано? Есть несколько причин, но, пожалуй, самой фундаментальной является идея недообучения-переобучения. Всегда возможно, что наша модель настроилась на конкретную выборку, но как она поведет себя на тех данных, которые еще не видела? Разбиение тестовых данных на публичную и скрытую части сделано для того, чтобы отобрать модели, которые имеют большую обобщающую способность. Одним из лозунгов участников соревнований стал \"Доверяйте своей локальной кросс-валидации\" (Trust your CV!). Есть очень большой соблазн оценивать свою модель по публичной части лидерборда, но лучшей стратегией будет выбирать ту модель, которая дает лучшую метрику на кросс-валидации на обучающей выборке. \n",
        "\n",
        "В нашем соревновании публичная часть лидерборда составляет 30%, а скрытая 70%. Вы можете делать до двух попыток в день, а оцениваться попытки будут по F1-мере. Удачи и доверяйте своей локальной валидации! В конце соревнования у вас будет возможность выбрать 2 из всех совершенных попыток - лучшая из этих двух и будет засчитана вам на скрытой части тестовых данных."
      ]
    },
    {
      "cell_type": "code",
      "execution_count": null,
      "metadata": {
        "id": "h-aJLktMyDc_"
      },
      "outputs": [],
      "source": []
    }
  ],
  "metadata": {
    "accelerator": "GPU",
    "colab": {
      "collapsed_sections": [],
      "name": "HotdogOrNot.ipynb",
      "provenance": []
    },
    "kernelspec": {
      "display_name": "Python 3",
      "language": "python",
      "name": "python3"
    },
    "language_info": {
      "codemirror_mode": {
        "name": "ipython",
        "version": 3
      },
      "file_extension": ".py",
      "mimetype": "text/x-python",
      "name": "python",
      "nbconvert_exporter": "python",
      "pygments_lexer": "ipython3",
      "version": "3.7.0"
    },
    "widgets": {
      "application/vnd.jupyter.widget-state+json": {
        "0d492fe5f5b14965bc470ddf5bb64fbc": {
          "model_module": "@jupyter-widgets/controls",
          "model_module_version": "1.5.0",
          "model_name": "ProgressStyleModel",
          "state": {
            "_model_module": "@jupyter-widgets/controls",
            "_model_module_version": "1.5.0",
            "_model_name": "ProgressStyleModel",
            "_view_count": null,
            "_view_module": "@jupyter-widgets/base",
            "_view_module_version": "1.2.0",
            "_view_name": "StyleView",
            "bar_color": null,
            "description_width": ""
          }
        },
        "1895f7c09aae4ffdbf96b766f9a34610": {
          "model_module": "@jupyter-widgets/controls",
          "model_module_version": "1.5.0",
          "model_name": "HBoxModel",
          "state": {
            "_dom_classes": [],
            "_model_module": "@jupyter-widgets/controls",
            "_model_module_version": "1.5.0",
            "_model_name": "HBoxModel",
            "_view_count": null,
            "_view_module": "@jupyter-widgets/controls",
            "_view_module_version": "1.5.0",
            "_view_name": "HBoxView",
            "box_style": "",
            "children": [
              "IPY_MODEL_6a519bc702734968bbbd36ccf65cf120",
              "IPY_MODEL_4ab69d507f714c86a59fcae2463c5a24",
              "IPY_MODEL_c3efe6fac1d645fa87b6eee549bbe0ba"
            ],
            "layout": "IPY_MODEL_67478d93588a443593e78dab5124b5ec"
          }
        },
        "28715c9a64c442adb7015bed246087fb": {
          "model_module": "@jupyter-widgets/base",
          "model_module_version": "1.2.0",
          "model_name": "LayoutModel",
          "state": {
            "_model_module": "@jupyter-widgets/base",
            "_model_module_version": "1.2.0",
            "_model_name": "LayoutModel",
            "_view_count": null,
            "_view_module": "@jupyter-widgets/base",
            "_view_module_version": "1.2.0",
            "_view_name": "LayoutView",
            "align_content": null,
            "align_items": null,
            "align_self": null,
            "border": null,
            "bottom": null,
            "display": null,
            "flex": null,
            "flex_flow": null,
            "grid_area": null,
            "grid_auto_columns": null,
            "grid_auto_flow": null,
            "grid_auto_rows": null,
            "grid_column": null,
            "grid_gap": null,
            "grid_row": null,
            "grid_template_areas": null,
            "grid_template_columns": null,
            "grid_template_rows": null,
            "height": null,
            "justify_content": null,
            "justify_items": null,
            "left": null,
            "margin": null,
            "max_height": null,
            "max_width": null,
            "min_height": null,
            "min_width": null,
            "object_fit": null,
            "object_position": null,
            "order": null,
            "overflow": null,
            "overflow_x": null,
            "overflow_y": null,
            "padding": null,
            "right": null,
            "top": null,
            "visibility": null,
            "width": null
          }
        },
        "290319f7643746ad9eb32624308c8b4e": {
          "model_module": "@jupyter-widgets/controls",
          "model_module_version": "1.5.0",
          "model_name": "DescriptionStyleModel",
          "state": {
            "_model_module": "@jupyter-widgets/controls",
            "_model_module_version": "1.5.0",
            "_model_name": "DescriptionStyleModel",
            "_view_count": null,
            "_view_module": "@jupyter-widgets/base",
            "_view_module_version": "1.2.0",
            "_view_name": "StyleView",
            "description_width": ""
          }
        },
        "32c9467292a040ce9ade6efbd0b31e0b": {
          "model_module": "@jupyter-widgets/base",
          "model_module_version": "1.2.0",
          "model_name": "LayoutModel",
          "state": {
            "_model_module": "@jupyter-widgets/base",
            "_model_module_version": "1.2.0",
            "_model_name": "LayoutModel",
            "_view_count": null,
            "_view_module": "@jupyter-widgets/base",
            "_view_module_version": "1.2.0",
            "_view_name": "LayoutView",
            "align_content": null,
            "align_items": null,
            "align_self": null,
            "border": null,
            "bottom": null,
            "display": null,
            "flex": null,
            "flex_flow": null,
            "grid_area": null,
            "grid_auto_columns": null,
            "grid_auto_flow": null,
            "grid_auto_rows": null,
            "grid_column": null,
            "grid_gap": null,
            "grid_row": null,
            "grid_template_areas": null,
            "grid_template_columns": null,
            "grid_template_rows": null,
            "height": null,
            "justify_content": null,
            "justify_items": null,
            "left": null,
            "margin": null,
            "max_height": null,
            "max_width": null,
            "min_height": null,
            "min_width": null,
            "object_fit": null,
            "object_position": null,
            "order": null,
            "overflow": null,
            "overflow_x": null,
            "overflow_y": null,
            "padding": null,
            "right": null,
            "top": null,
            "visibility": null,
            "width": null
          }
        },
        "4ab69d507f714c86a59fcae2463c5a24": {
          "model_module": "@jupyter-widgets/controls",
          "model_module_version": "1.5.0",
          "model_name": "FloatProgressModel",
          "state": {
            "_dom_classes": [],
            "_model_module": "@jupyter-widgets/controls",
            "_model_module_version": "1.5.0",
            "_model_name": "FloatProgressModel",
            "_view_count": null,
            "_view_module": "@jupyter-widgets/controls",
            "_view_module_version": "1.5.0",
            "_view_name": "ProgressView",
            "bar_style": "success",
            "description": "",
            "description_tooltip": null,
            "layout": "IPY_MODEL_28715c9a64c442adb7015bed246087fb",
            "max": 46830571,
            "min": 0,
            "orientation": "horizontal",
            "style": "IPY_MODEL_0d492fe5f5b14965bc470ddf5bb64fbc",
            "value": 46830571
          }
        },
        "67478d93588a443593e78dab5124b5ec": {
          "model_module": "@jupyter-widgets/base",
          "model_module_version": "1.2.0",
          "model_name": "LayoutModel",
          "state": {
            "_model_module": "@jupyter-widgets/base",
            "_model_module_version": "1.2.0",
            "_model_name": "LayoutModel",
            "_view_count": null,
            "_view_module": "@jupyter-widgets/base",
            "_view_module_version": "1.2.0",
            "_view_name": "LayoutView",
            "align_content": null,
            "align_items": null,
            "align_self": null,
            "border": null,
            "bottom": null,
            "display": null,
            "flex": null,
            "flex_flow": null,
            "grid_area": null,
            "grid_auto_columns": null,
            "grid_auto_flow": null,
            "grid_auto_rows": null,
            "grid_column": null,
            "grid_gap": null,
            "grid_row": null,
            "grid_template_areas": null,
            "grid_template_columns": null,
            "grid_template_rows": null,
            "height": null,
            "justify_content": null,
            "justify_items": null,
            "left": null,
            "margin": null,
            "max_height": null,
            "max_width": null,
            "min_height": null,
            "min_width": null,
            "object_fit": null,
            "object_position": null,
            "order": null,
            "overflow": null,
            "overflow_x": null,
            "overflow_y": null,
            "padding": null,
            "right": null,
            "top": null,
            "visibility": null,
            "width": null
          }
        },
        "6a519bc702734968bbbd36ccf65cf120": {
          "model_module": "@jupyter-widgets/controls",
          "model_module_version": "1.5.0",
          "model_name": "HTMLModel",
          "state": {
            "_dom_classes": [],
            "_model_module": "@jupyter-widgets/controls",
            "_model_module_version": "1.5.0",
            "_model_name": "HTMLModel",
            "_view_count": null,
            "_view_module": "@jupyter-widgets/controls",
            "_view_module_version": "1.5.0",
            "_view_name": "HTMLView",
            "description": "",
            "description_tooltip": null,
            "layout": "IPY_MODEL_ae90a201e7b54c81bf6953cbbabbda38",
            "placeholder": "​",
            "style": "IPY_MODEL_ffaa97fc8b9247b98566c28e31b70f0e",
            "value": "100%"
          }
        },
        "ae90a201e7b54c81bf6953cbbabbda38": {
          "model_module": "@jupyter-widgets/base",
          "model_module_version": "1.2.0",
          "model_name": "LayoutModel",
          "state": {
            "_model_module": "@jupyter-widgets/base",
            "_model_module_version": "1.2.0",
            "_model_name": "LayoutModel",
            "_view_count": null,
            "_view_module": "@jupyter-widgets/base",
            "_view_module_version": "1.2.0",
            "_view_name": "LayoutView",
            "align_content": null,
            "align_items": null,
            "align_self": null,
            "border": null,
            "bottom": null,
            "display": null,
            "flex": null,
            "flex_flow": null,
            "grid_area": null,
            "grid_auto_columns": null,
            "grid_auto_flow": null,
            "grid_auto_rows": null,
            "grid_column": null,
            "grid_gap": null,
            "grid_row": null,
            "grid_template_areas": null,
            "grid_template_columns": null,
            "grid_template_rows": null,
            "height": null,
            "justify_content": null,
            "justify_items": null,
            "left": null,
            "margin": null,
            "max_height": null,
            "max_width": null,
            "min_height": null,
            "min_width": null,
            "object_fit": null,
            "object_position": null,
            "order": null,
            "overflow": null,
            "overflow_x": null,
            "overflow_y": null,
            "padding": null,
            "right": null,
            "top": null,
            "visibility": null,
            "width": null
          }
        },
        "c3efe6fac1d645fa87b6eee549bbe0ba": {
          "model_module": "@jupyter-widgets/controls",
          "model_module_version": "1.5.0",
          "model_name": "HTMLModel",
          "state": {
            "_dom_classes": [],
            "_model_module": "@jupyter-widgets/controls",
            "_model_module_version": "1.5.0",
            "_model_name": "HTMLModel",
            "_view_count": null,
            "_view_module": "@jupyter-widgets/controls",
            "_view_module_version": "1.5.0",
            "_view_name": "HTMLView",
            "description": "",
            "description_tooltip": null,
            "layout": "IPY_MODEL_32c9467292a040ce9ade6efbd0b31e0b",
            "placeholder": "​",
            "style": "IPY_MODEL_290319f7643746ad9eb32624308c8b4e",
            "value": " 44.7M/44.7M [00:01&lt;00:00, 38.7MB/s]"
          }
        },
        "ffaa97fc8b9247b98566c28e31b70f0e": {
          "model_module": "@jupyter-widgets/controls",
          "model_module_version": "1.5.0",
          "model_name": "DescriptionStyleModel",
          "state": {
            "_model_module": "@jupyter-widgets/controls",
            "_model_module_version": "1.5.0",
            "_model_name": "DescriptionStyleModel",
            "_view_count": null,
            "_view_module": "@jupyter-widgets/base",
            "_view_module_version": "1.2.0",
            "_view_name": "StyleView",
            "description_width": ""
          }
        }
      }
    }
  },
  "nbformat": 4,
  "nbformat_minor": 0
}
